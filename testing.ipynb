{
 "cells": [
  {
   "cell_type": "markdown",
   "metadata": {},
   "source": [
    "# Agentic RAG for Finance Chatbot"
   ]
  },
  {
   "cell_type": "code",
   "execution_count": 3,
   "metadata": {},
   "outputs": [
    {
     "name": "stderr",
     "output_type": "stream",
     "text": [
      "e:\\Projects_working\\LangGraph_Agents_Nodes\\Multi_Tool_Agent_ENV_3.9.0\\lib\\site-packages\\tqdm\\auto.py:21: TqdmWarning: IProgress not found. Please update jupyter and ipywidgets. See https://ipywidgets.readthedocs.io/en/stable/user_install.html\n",
      "  from .autonotebook import tqdm as notebook_tqdm\n"
     ]
    }
   ],
   "source": [
    "import os\n",
    "from dotenv import load_dotenv\n",
    "from langchain_google_genai import ChatGoogleGenerativeAI\n",
    "from langchain_experimental.utilities.python import PythonREPL\n",
    "from langchain_core.tools import Tool\n",
    "from langchain_huggingface.embeddings import HuggingFaceEmbeddings\n",
    "from langchain_community.document_loaders.csv_loader import CSVLoader"
   ]
  },
  {
   "cell_type": "code",
   "execution_count": 4,
   "metadata": {},
   "outputs": [],
   "source": [
    "# Load Environment Variables\n",
    "load_dotenv()\n",
    "os.environ[\"LANGCHAIN_TRACING_V2\"] = \"true\"\n",
    "os.environ[\"LANGCHAIN_API_KEY\"] = os.getenv(\"LANGCHAIN_API_KEY\")\n",
    "google_key = os.getenv(\"GOOGLE_API_KEY\")"
   ]
  },
  {
   "cell_type": "markdown",
   "metadata": {},
   "source": [
    "# LLM Define"
   ]
  },
  {
   "cell_type": "code",
   "execution_count": 3,
   "metadata": {},
   "outputs": [],
   "source": [
    "llm = ChatGoogleGenerativeAI(\n",
    "    google_api_key = os.getenv(\"GOOGLE_API_KEY\"),\n",
    "    model=\"gemini-1.5-pro\",\n",
    "    temperature=0,\n",
    "    max_tokens=None,\n",
    "    timeout=None,\n",
    "    # other params...\n",
    ")"
   ]
  },
  {
   "cell_type": "markdown",
   "metadata": {},
   "source": [
    "# CSV File Loader"
   ]
  },
  {
   "cell_type": "code",
   "execution_count": 4,
   "metadata": {},
   "outputs": [],
   "source": [
    "file_path = (\n",
    "    \"./dummy_data_for_llm_testing.csv\"\n",
    ")\n",
    "\n",
    "loader = CSVLoader(file_path=file_path)\n",
    "data = loader.load()\n",
    "# print(data)\n",
    "\n",
    "# for d in data:\n",
    "#     print(d)"
   ]
  },
  {
   "cell_type": "markdown",
   "metadata": {},
   "source": [
    "# Embedding The data"
   ]
  },
  {
   "cell_type": "code",
   "execution_count": 5,
   "metadata": {},
   "outputs": [
    {
     "name": "stdout",
     "output_type": "stream",
     "text": [
      "client=SentenceTransformer(\n",
      "  (0): Transformer({'max_seq_length': 512, 'do_lower_case': False}) with Transformer model: BertModel \n",
      "  (1): Pooling({'word_embedding_dimension': 1024, 'pooling_mode_cls_token': False, 'pooling_mode_mean_tokens': True, 'pooling_mode_max_tokens': False, 'pooling_mode_mean_sqrt_len_tokens': False, 'pooling_mode_weightedmean_tokens': False, 'pooling_mode_lasttoken': False, 'include_prompt': True})\n",
      "  (2): Normalize()\n",
      ") model_name='intfloat/e5-large-v2' cache_folder=None model_kwargs={} encode_kwargs={} multi_process=False show_progress=False\n"
     ]
    }
   ],
   "source": [
    "model_name = \"intfloat/e5-large-v2\"\n",
    "\n",
    "hf_embeddings = HuggingFaceEmbeddings(\n",
    "    model_name=model_name,\n",
    ")\n",
    "\n",
    "print(hf_embeddings)"
   ]
  },
  {
   "cell_type": "code",
   "execution_count": 6,
   "metadata": {},
   "outputs": [],
   "source": [
    "persist_directory='./chroma_db'"
   ]
  },
  {
   "cell_type": "code",
   "execution_count": 7,
   "metadata": {},
   "outputs": [],
   "source": [
    "from langchain_chroma import Chroma\n",
    "\n",
    "if persist_directory == \"./chroma_db\":\n",
    "    vectorstore = Chroma(persist_directory=persist_directory, embedding_function=hf_embeddings)\n",
    "else:\n",
    "    vectorstore = Chroma.from_documents(documents=data, persist_directory=persist_directory, embedding=hf_embeddings)"
   ]
  },
  {
   "cell_type": "code",
   "execution_count": 8,
   "metadata": {},
   "outputs": [],
   "source": [
    "from langchain_chroma import Chroma\n",
    "vectorstore = Chroma.from_documents(documents=data, persist_directory=persist_directory, embedding=hf_embeddings)"
   ]
  },
  {
   "cell_type": "code",
   "execution_count": 9,
   "metadata": {},
   "outputs": [],
   "source": [
    "retriever = vectorstore.as_retriever()"
   ]
  },
  {
   "cell_type": "code",
   "execution_count": 17,
   "metadata": {},
   "outputs": [],
   "source": [
    "# retriever.invoke(\"what is my january budget of R&D\")"
   ]
  },
  {
   "cell_type": "code",
   "execution_count": 18,
   "metadata": {},
   "outputs": [],
   "source": [
    "# vectorAllData = vectorstore.get(include=['embeddings', 'documents', 'metadatas'])"
   ]
  },
  {
   "cell_type": "code",
   "execution_count": 19,
   "metadata": {},
   "outputs": [],
   "source": [
    "# print(vectorAllData)"
   ]
  },
  {
   "cell_type": "markdown",
   "metadata": {},
   "source": [
    "# retriever tool"
   ]
  },
  {
   "cell_type": "code",
   "execution_count": 10,
   "metadata": {},
   "outputs": [],
   "source": [
    "from langchain.tools.retriever import create_retriever_tool\n",
    "\n",
    "retriever_tool = create_retriever_tool(\n",
    "    retriever,\n",
    "    \"Financial_data_csv\",\n",
    "    \"This is the financial data of user in a csv format. If user want to know something about its financial data then search it and provide details to user.\",\n",
    ")\n",
    "\n",
    "tools = [retriever_tool]"
   ]
  },
  {
   "cell_type": "markdown",
   "metadata": {},
   "source": [
    "# Agent State\n",
    "We will define a graph.\n",
    "\n",
    "A state object that it passes around to each node.\n",
    "\n",
    "Our state will be a list of messages.\n",
    "\n",
    "Each node in our graph will append to it."
   ]
  },
  {
   "cell_type": "code",
   "execution_count": 11,
   "metadata": {},
   "outputs": [],
   "source": [
    "from typing import Annotated, Sequence\n",
    "from typing_extensions import TypedDict\n",
    "\n",
    "from langchain_core.messages import BaseMessage\n",
    "\n",
    "from langgraph.graph.message import add_messages\n",
    "\n",
    "\n",
    "class AgentState(TypedDict):\n",
    "    # The add_messages function defines how an update should be processed\n",
    "    # Default is to replace. add_messages says \"append\"\n",
    "    messages: Annotated[Sequence[BaseMessage], add_messages]\n"
   ]
  },
  {
   "cell_type": "markdown",
   "metadata": {},
   "source": [
    "# grade documents for Agentic RAG "
   ]
  },
  {
   "cell_type": "code",
   "execution_count": 12,
   "metadata": {},
   "outputs": [],
   "source": [
    "from typing import Annotated, Literal, Sequence\n",
    "from typing_extensions import TypedDict\n",
    "\n",
    "from langchain import hub\n",
    "from langchain_core.messages import BaseMessage, HumanMessage\n",
    "from langchain_core.output_parsers import StrOutputParser\n",
    "from langchain_core.prompts import PromptTemplate\n",
    "# from langchain_openai import ChatOpenAI\n",
    "\n",
    "from pydantic import BaseModel, Field\n",
    "\n",
    "\n",
    "from langgraph.prebuilt import tools_condition\n",
    "\n",
    "### Edges\n",
    "\n",
    "\n",
    "def grade_documents(state) -> Literal[\"generate\", \"rewrite\"]:\n",
    "    \"\"\"\n",
    "    Determines whether the retrieved documents are relevant to the question.\n",
    "\n",
    "    Args:\n",
    "        state (messages): The current state\n",
    "\n",
    "    Returns:\n",
    "        str: A decision for whether the documents are relevant or not\n",
    "    \"\"\"\n",
    "\n",
    "    print(\"---CHECK RELEVANCE---\")\n",
    "\n",
    "    # Data model\n",
    "    class grade(BaseModel):\n",
    "        \"\"\"Binary score for relevance check.\"\"\"\n",
    "\n",
    "        binary_score: str = Field(description=\"Relevance score 'yes' or 'no'\")\n",
    "\n",
    "    # LLM\n",
    "    # model = ChatOpenAI(temperature=0, model=\"gpt-4-0125-preview\", streaming=True)\n",
    "\n",
    "    # LLM with tool and validation\n",
    "    llm_with_tool = llm.with_structured_output(grade)\n",
    "\n",
    "    # Prompt\n",
    "    prompt = PromptTemplate(\n",
    "        template=\"\"\"You are a grader assessing relevance of a retrieved document to a user question. \\n \n",
    "        Here is the retrieved document: \\n\\n {context} \\n\\n\n",
    "        Here is the user question: {question} \\n\n",
    "        If the document contains keyword(s) or semantic meaning related to the user question, grade it as relevant. \\n\n",
    "        Give a binary score 'yes' or 'no' score to indicate whether the document is relevant to the question.\"\"\",\n",
    "        input_variables=[\"context\", \"question\"],\n",
    "    )\n",
    "\n",
    "    # Chain\n",
    "    chain = prompt | llm_with_tool\n",
    "\n",
    "    messages = state[\"messages\"]\n",
    "    last_message = messages[-1]\n",
    "\n",
    "    question = messages[0].content\n",
    "    docs = last_message.content\n",
    "\n",
    "    scored_result = chain.invoke({\"question\": question, \"context\": docs})\n",
    "\n",
    "    score = scored_result.binary_score\n",
    "\n",
    "    if score == \"yes\":\n",
    "        print(\"---DECISION: DOCS RELEVANT---\")\n",
    "        return \"generate\"\n",
    "\n",
    "    else:\n",
    "        print(\"---DECISION: DOCS NOT RELEVANT---\")\n",
    "        print(score)\n",
    "        return \"rewrite\""
   ]
  },
  {
   "cell_type": "code",
   "execution_count": 13,
   "metadata": {},
   "outputs": [],
   "source": [
    "def rewrite(state):\n",
    "    \"\"\"\n",
    "    Transform the query to produce a better question.\n",
    "\n",
    "    Args:\n",
    "        state (messages): The current state\n",
    "\n",
    "    Returns:\n",
    "        dict: The updated state with re-phrased question\n",
    "    \"\"\"\n",
    "\n",
    "    print(\"---TRANSFORM QUERY---\")\n",
    "    messages = state[\"messages\"]\n",
    "    question = messages[0].content\n",
    "\n",
    "    msg = [\n",
    "        HumanMessage(\n",
    "            content=f\"\"\" \\n \n",
    "    Look at the input and try to reason about the underlying semantic intent / meaning. \\n \n",
    "    Here is the initial question:\n",
    "    \\n ------- \\n\n",
    "    {question} \n",
    "    \\n ------- \\n\n",
    "    Formulate an improved question: \"\"\",\n",
    "        )\n",
    "    ]\n",
    "\n",
    "    # Grader\n",
    "    # model = ChatOpenAI(temperature=0, model=\"gpt-4-0125-preview\", streaming=True)\n",
    "    response = llm.invoke(msg)\n",
    "    return {\"messages\": [response]}\n",
    "\n",
    "\n",
    "def generate(state):\n",
    "    \"\"\"\n",
    "    Generate answer\n",
    "\n",
    "    Args:\n",
    "        state (messages): The current state\n",
    "\n",
    "    Returns:\n",
    "         dict: The updated state with re-phrased question\n",
    "    \"\"\"\n",
    "    print(\"---GENERATE---\")\n",
    "    messages = state[\"messages\"]\n",
    "    question = messages[0].content\n",
    "    last_message = messages[-1]\n",
    "\n",
    "    docs = last_message.content\n",
    "\n",
    "    # Prompt\n",
    "    prompt = hub.pull(\"rlm/rag-prompt\")\n",
    "\n",
    "    # LLM\n",
    "    # llm = ChatOpenAI(model_name=\"gpt-3.5-turbo\", temperature=0, streaming=True)\n",
    "\n",
    "    # Post-processing\n",
    "    def format_docs(docs):\n",
    "        return \"\\n\\n\".join(doc.page_content for doc in docs)\n",
    "\n",
    "    # Chain\n",
    "    rag_chain = prompt | llm | StrOutputParser()\n",
    "\n",
    "    # Run\n",
    "    response = rag_chain.invoke({\"context\": docs, \"question\": question})\n",
    "    return {\"messages\": [response]}\n"
   ]
  },
  {
   "cell_type": "markdown",
   "metadata": {},
   "source": [
    "# To see what prompt looks like "
   ]
  },
  {
   "cell_type": "code",
   "execution_count": 14,
   "metadata": {},
   "outputs": [
    {
     "name": "stdout",
     "output_type": "stream",
     "text": [
      "********************Prompt[rlm/rag-prompt]********************\n",
      "================================\u001b[1m Human Message \u001b[0m=================================\n",
      "\n",
      "You are an assistant for question-answering tasks. Use the following pieces of retrieved context to answer the question. If you don't know the answer, just say that you don't know. Use three sentences maximum and keep the answer concise.\n",
      "Question: \u001b[33;1m\u001b[1;3m{question}\u001b[0m \n",
      "Context: \u001b[33;1m\u001b[1;3m{context}\u001b[0m \n",
      "Answer:\n"
     ]
    }
   ],
   "source": [
    "from langchain import hub\n",
    "print(\"*\" * 20 + \"Prompt[rlm/rag-prompt]\" + \"*\" * 20)\n",
    "prompt = hub.pull(\"rlm/rag-prompt\").pretty_print()  # Show what the prompt looks like"
   ]
  },
  {
   "cell_type": "markdown",
   "metadata": {},
   "source": [
    "# Nodes"
   ]
  },
  {
   "cell_type": "code",
   "execution_count": 15,
   "metadata": {},
   "outputs": [],
   "source": [
    "def agent(state):\n",
    "    \"\"\"\n",
    "    Invokes the agent model to generate a response based on the current state. Given\n",
    "    the question, it will decide to retrieve using the retriever tool, or simply end.\n",
    "\n",
    "    Args:\n",
    "        state (messages): The current state\n",
    "\n",
    "    Returns:\n",
    "        dict: The updated state with the agent response appended to messages\n",
    "    \"\"\"\n",
    "    print(\"---CALL AGENT---\")\n",
    "    messages = state[\"messages\"]\n",
    "    # model = ChatOpenAI(temperature=0, streaming=True, model=\"gpt-4-turbo\")\n",
    "    model = llm.bind_tools(tools)\n",
    "    response = model.invoke(messages)\n",
    "    # We return a list, because this will get added to the existing list\n",
    "    return {\"messages\": [response]}"
   ]
  },
  {
   "cell_type": "markdown",
   "metadata": {},
   "source": [
    "# Graph\n",
    "Start with an agent, call_model\n",
    "\n",
    "Agent make a decision to call a function\n",
    "\n",
    "If so, then action to call tool (retriever)\n",
    "\n",
    "Then call agent with the tool output added to messages (state)"
   ]
  },
  {
   "cell_type": "code",
   "execution_count": 17,
   "metadata": {},
   "outputs": [
    {
     "data": {
      "text/plain": [
       "<langgraph.graph.state.StateGraph at 0x14c4046b9d0>"
      ]
     },
     "execution_count": 17,
     "metadata": {},
     "output_type": "execute_result"
    }
   ],
   "source": [
    "from langgraph.graph import END, StateGraph, START\n",
    "from langgraph.prebuilt import ToolNode\n",
    "\n",
    "# Define a new graph\n",
    "workflow = StateGraph(AgentState)\n",
    "\n",
    "# Define the nodes we will cycle between\n",
    "workflow.add_node(\"agent\", agent)  # agent\n",
    "retrieve = ToolNode([retriever_tool])\n",
    "workflow.add_node(\"retrieve\", retrieve)  # retrieval\n",
    "workflow.add_node(\"rewrite\", rewrite)  # Re-writing the question\n",
    "workflow.add_node(\n",
    "    \"generate\", generate\n",
    ")  # Generating a response after we know the documents are relevant\n",
    "# Call agent node to decide to retrieve or not\n",
    "workflow.add_edge(START, \"agent\")\n",
    "\n",
    "# Decide whether to retrieve\n",
    "workflow.add_conditional_edges(\n",
    "    \"agent\",\n",
    "    # Assess agent decision\n",
    "    tools_condition,\n",
    "    {\n",
    "        # Translate the condition outputs to nodes in our graph\n",
    "        \"tools\": \"retrieve\",\n",
    "        END: END,\n",
    "    },\n",
    ")\n",
    "\n",
    "# Edges taken after the `action` node is called.\n",
    "workflow.add_conditional_edges(\n",
    "    \"retrieve\",\n",
    "    # Assess agent decision\n",
    "    grade_documents,\n",
    ")\n",
    "workflow.add_edge(\"generate\", END)\n",
    "workflow.add_edge(\"rewrite\", \"agent\")"
   ]
  },
  {
   "cell_type": "markdown",
   "metadata": {},
   "source": [
    "# PostgresSQL with SupaBase.com"
   ]
  },
  {
   "cell_type": "markdown",
   "metadata": {},
   "source": [
    "# Adding Memory to Agent Locally"
   ]
  },
  {
   "cell_type": "code",
   "execution_count": null,
   "metadata": {},
   "outputs": [],
   "source": [
    "# from langgraph.checkpoint.memory import MemorySaver\n",
    "\n",
    "# memory = MemorySaver()\n",
    "# # Compile\n",
    "# graph = workflow.compile(checkpointer=memory)"
   ]
  },
  {
   "cell_type": "markdown",
   "metadata": {},
   "source": [
    "# Display flow"
   ]
  },
  {
   "cell_type": "code",
   "execution_count": 17,
   "metadata": {},
   "outputs": [
    {
     "data": {
      "image/jpeg": "[encoded data removed]",
      "text/plain": [
       "<IPython.core.display.Image object>"
      ]
     },
     "metadata": {},
     "output_type": "display_data"
    }
   ],
   "source": [
    "from IPython.display import Image, display\n",
    "\n",
    "try:\n",
    "    display(Image(graph.get_graph(xray=True).draw_mermaid_png()))\n",
    "except Exception:\n",
    "    # This requires some extra dependencies and is optional\n",
    "    pass"
   ]
  },
  {
   "cell_type": "markdown",
   "metadata": {},
   "source": [
    "# Using Agent "
   ]
  },
  {
   "cell_type": "code",
   "execution_count": 18,
   "metadata": {},
   "outputs": [
    {
     "name": "stderr",
     "output_type": "stream",
     "text": [
      "Key 'title' is not supported in schema, ignoring\n",
      "Key 'title' is not supported in schema, ignoring\n"
     ]
    },
    {
     "name": "stdout",
     "output_type": "stream",
     "text": [
      "---CALL AGENT---\n",
      "{'name': 'Financial_data_csv', 'description': 'This is the financial data of user in a csv format. If user want to know something about its financial data then search it and provide details to user.', 'parameters': {'type_': 6, 'description': 'Input to the retriever.', 'properties': {'query': {'type_': 1, 'description': 'query to look up in retriever', 'format_': '', 'nullable': False, 'enum': [], 'max_items': '0', 'min_items': '0', 'properties': {}, 'required': []}}, 'required': ['query'], 'format_': '', 'nullable': False, 'enum': [], 'max_items': '0', 'min_items': '0'}}\n",
      "Result from graph.ainvoke:\n",
      "{'messages': [HumanMessage(content='Do you know my name?', additional_kwargs={}, response_metadata={}, id='83f4f780-de13-45e0-acf6-07b291edee43'), AIMessage(content=\"I do not have access to your personal information, including your name. My purpose is to help you find information and complete tasks, but I don't store or have access to any private data about you. \\n\", additional_kwargs={}, response_metadata={'prompt_feedback': {'block_reason': 0, 'safety_ratings': []}, 'finish_reason': 'STOP', 'safety_ratings': [{'category': 'HARM_CATEGORY_SEXUALLY_EXPLICIT', 'probability': 'NEGLIGIBLE', 'blocked': False}, {'category': 'HARM_CATEGORY_HATE_SPEECH', 'probability': 'NEGLIGIBLE', 'blocked': False}, {'category': 'HARM_CATEGORY_HARASSMENT', 'probability': 'NEGLIGIBLE', 'blocked': False}, {'category': 'HARM_CATEGORY_DANGEROUS_CONTENT', 'probability': 'NEGLIGIBLE', 'blocked': False}]}, id='run-7e192c59-832b-4be6-89d3-5468e91d2c2e-0', usage_metadata={'input_tokens': 77, 'output_tokens': 42, 'total_tokens': 119})]}\n",
      "Checkpoint tuples:\n",
      "CheckpointTuple(config={'configurable': {'thread_id': '1', 'checkpoint_ns': '', 'checkpoint_id': '1ef8fb7a-3281-6aa5-8001-904292aedeea'}}, checkpoint={'v': 1, 'id': '1ef8fb7a-3281-6aa5-8001-904292aedeea', 'ts': '2024-10-21T14:20:35.087632+00:00', 'pending_sends': [], 'versions_seen': {'agent': {'start:agent': '00000000000000000000000000000002.0.9325717820682979'}, '__input__': {}, '__start__': {'__start__': '00000000000000000000000000000001.0.948190050315472'}}, 'channel_versions': {'agent': '00000000000000000000000000000003.0.6725656777795112', 'messages': '00000000000000000000000000000003.0.3681313817207372', '__start__': '00000000000000000000000000000002.0.07108135906679314', 'start:agent': '00000000000000000000000000000003.0.7811572883898187'}, 'channel_values': {'agent': 'agent', 'messages': [HumanMessage(content='Do you know my name?', additional_kwargs={}, response_metadata={}, id='83f4f780-de13-45e0-acf6-07b291edee43'), AIMessage(content=\"I do not have access to your personal information, including your name. My purpose is to help you find information and complete tasks, but I don't store or have access to any private data about you. \\n\", additional_kwargs={}, response_metadata={'prompt_feedback': {'block_reason': 0, 'safety_ratings': []}, 'finish_reason': 'STOP', 'safety_ratings': [{'category': 'HARM_CATEGORY_SEXUALLY_EXPLICIT', 'probability': 'NEGLIGIBLE', 'blocked': False}, {'category': 'HARM_CATEGORY_HATE_SPEECH', 'probability': 'NEGLIGIBLE', 'blocked': False}, {'category': 'HARM_CATEGORY_HARASSMENT', 'probability': 'NEGLIGIBLE', 'blocked': False}, {'category': 'HARM_CATEGORY_DANGEROUS_CONTENT', 'probability': 'NEGLIGIBLE', 'blocked': False}]}, id='run-7e192c59-832b-4be6-89d3-5468e91d2c2e-0', usage_metadata={'input_tokens': 77, 'output_tokens': 42, 'total_tokens': 119})]}}, metadata={'step': 1, 'source': 'loop', 'writes': {'agent': {'messages': [AIMessage(content=\"I do not have access to your personal information, including your name. My purpose is to help you find information and complete tasks, but I don't store or have access to any private data about you. \\n\", additional_kwargs={}, response_metadata={'finish_reason': 'STOP', 'safety_ratings': [{'blocked': False, 'category': 'HARM_CATEGORY_SEXUALLY_EXPLICIT', 'probability': 'NEGLIGIBLE'}, {'blocked': False, 'category': 'HARM_CATEGORY_HATE_SPEECH', 'probability': 'NEGLIGIBLE'}, {'blocked': False, 'category': 'HARM_CATEGORY_HARASSMENT', 'probability': 'NEGLIGIBLE'}, {'blocked': False, 'category': 'HARM_CATEGORY_DANGEROUS_CONTENT', 'probability': 'NEGLIGIBLE'}], 'prompt_feedback': {'block_reason': 0, 'safety_ratings': []}}, id='run-7e192c59-832b-4be6-89d3-5468e91d2c2e-0', usage_metadata={'input_tokens': 77, 'output_tokens': 42, 'total_tokens': 119})]}}, 'parents': {}}, parent_config={'configurable': {'thread_id': '1', 'checkpoint_ns': '', 'checkpoint_id': '1ef8fb7a-1474-63b7-8000-7a49155dadfd'}}, pending_writes=[])\n",
      "CheckpointTuple(config={'configurable': {'thread_id': '1', 'checkpoint_ns': '', 'checkpoint_id': '1ef8fb7a-1474-63b7-8000-7a49155dadfd'}}, checkpoint={'v': 1, 'id': '1ef8fb7a-1474-63b7-8000-7a49155dadfd', 'ts': '2024-10-21T14:20:31.936402+00:00', 'pending_sends': [], 'versions_seen': {'__input__': {}, '__start__': {'__start__': '00000000000000000000000000000001.0.948190050315472'}}, 'channel_versions': {'messages': '00000000000000000000000000000002.0.35255540472762525', '__start__': '00000000000000000000000000000002.0.07108135906679314', 'start:agent': '00000000000000000000000000000002.0.9325717820682979'}, 'channel_values': {'messages': [HumanMessage(content='Do you know my name?', additional_kwargs={}, response_metadata={}, id='83f4f780-de13-45e0-acf6-07b291edee43')], 'start:agent': '__start__'}}, metadata={'step': 0, 'source': 'loop', 'writes': None, 'parents': {}}, parent_config={'configurable': {'thread_id': '1', 'checkpoint_ns': '', 'checkpoint_id': '1ef8fb7a-1468-6f45-bfff-0219e1423687'}}, pending_writes=[('192246d0-4d67-4bb3-15a1-97deb9d73d5e', 'agent', 'agent'), ('192246d0-4d67-4bb3-15a1-97deb9d73d5e', 'messages', [AIMessage(content=\"I do not have access to your personal information, including your name. My purpose is to help you find information and complete tasks, but I don't store or have access to any private data about you. \\n\", additional_kwargs={}, response_metadata={'prompt_feedback': {'block_reason': 0, 'safety_ratings': []}, 'finish_reason': 'STOP', 'safety_ratings': [{'category': 'HARM_CATEGORY_SEXUALLY_EXPLICIT', 'probability': 'NEGLIGIBLE', 'blocked': False}, {'category': 'HARM_CATEGORY_HATE_SPEECH', 'probability': 'NEGLIGIBLE', 'blocked': False}, {'category': 'HARM_CATEGORY_HARASSMENT', 'probability': 'NEGLIGIBLE', 'blocked': False}, {'category': 'HARM_CATEGORY_DANGEROUS_CONTENT', 'probability': 'NEGLIGIBLE', 'blocked': False}]}, id='run-7e192c59-832b-4be6-89d3-5468e91d2c2e-0', usage_metadata={'input_tokens': 77, 'output_tokens': 42, 'total_tokens': 119})])])\n",
      "CheckpointTuple(config={'configurable': {'thread_id': '1', 'checkpoint_ns': '', 'checkpoint_id': '1ef8fb7a-1468-6f45-bfff-0219e1423687'}}, checkpoint={'v': 1, 'id': '1ef8fb7a-1468-6f45-bfff-0219e1423687', 'ts': '2024-10-21T14:20:31.931782+00:00', 'pending_sends': [], 'versions_seen': {'__input__': {}}, 'channel_versions': {'__start__': '00000000000000000000000000000001.0.948190050315472'}, 'channel_values': {'__start__': {'messages': [['human', 'Do you know my name?']]}}}, metadata={'step': -1, 'source': 'input', 'writes': {'__start__': {'messages': [['human', 'Do you know my name?']]}}, 'parents': {}}, parent_config=None, pending_writes=[('3ba8cedf-78a6-3a34-52f4-a0839bcce03b', 'messages', [['human', 'Do you know my name?']]), ('3ba8cedf-78a6-3a34-52f4-a0839bcce03b', 'start:agent', '__start__')])\n"
     ]
    },
    {
     "name": "stderr",
     "output_type": "stream",
     "text": [
      "Failed to multipart ingest runs: langsmith.utils.LangSmithError: Failed to POST https://api.smith.langchain.com/runs/multipart in LangSmith API. HTTPError('400 Client Error: Bad Request for url: https://api.smith.langchain.com/runs/multipart', '{\"detail\":\"Empty request\"}')\n",
      "Failed to multipart ingest runs: langsmith.utils.LangSmithError: Failed to POST https://api.smith.langchain.com/runs/multipart in LangSmith API. HTTPError('400 Client Error: Bad Request for url: https://api.smith.langchain.com/runs/multipart', '{\"detail\":\"Empty request\"}')\n",
      "Failed to multipart ingest runs: langsmith.utils.LangSmithError: Failed to POST https://api.smith.langchain.com/runs/multipart in LangSmith API. HTTPError('400 Client Error: Bad Request for url: https://api.smith.langchain.com/runs/multipart', '{\"detail\":\"Empty request\"}')\n",
      "Failed to multipart ingest runs: langsmith.utils.LangSmithError: Failed to POST https://api.smith.langchain.com/runs/multipart in LangSmith API. HTTPError('400 Client Error: Bad Request for url: https://api.smith.langchain.com/runs/multipart', '{\"detail\":\"Empty request\"}')\n"
     ]
    }
   ],
   "source": [
    "from langgraph.checkpoint.postgres.aio import AsyncPostgresSaver\n",
    "\n",
    "DB_URI = os.getenv(\"Postgres_sql_URL\")\n",
    "\n",
    "async with AsyncPostgresSaver.from_conn_string(DB_URI) as checkpointer:\n",
    "    await checkpointer.setup()\n",
    "    graph = workflow.compile(checkpointer=checkpointer)\n",
    "    config = {\"configurable\": {\"thread_id\": \"1\"}}\n",
    "    \n",
    "    # Invoke the graph and capture the result\n",
    "    res = await graph.ainvoke(\n",
    "        {\"messages\": [(\"human\", \"Do you know my name?\")]}, config\n",
    "    )\n",
    "    \n",
    "    # Print the result to the console\n",
    "    print(\"Result from graph.ainvoke:\")\n",
    "    print(res)\n",
    "    \n",
    "    # Print checkpoint tuples\n",
    "    checkpoint_tuples = [c async for c in checkpointer.alist(config)]\n",
    "    print(\"Checkpoint tuples:\")\n",
    "    for tuple_ in checkpoint_tuples:\n",
    "        print(tuple_)\n"
   ]
  },
  {
   "cell_type": "code",
   "execution_count": 28,
   "metadata": {},
   "outputs": [
    {
     "name": "stderr",
     "output_type": "stream",
     "text": [
      "Key 'title' is not supported in schema, ignoring\n",
      "Key 'title' is not supported in schema, ignoring\n"
     ]
    },
    {
     "name": "stdout",
     "output_type": "stream",
     "text": [
      "---CALL AGENT---\n",
      "{'name': 'Financial_data_csv', 'description': 'This is the financial data of user in a csv format. If user want to know something about its financial data then search it and provide details to user.', 'parameters': {'type_': 6, 'description': 'Input to the retriever.', 'properties': {'query': {'type_': 1, 'description': 'query to look up in retriever', 'format_': '', 'nullable': False, 'enum': [], 'max_items': '0', 'min_items': '0', 'properties': {}, 'required': []}}, 'required': ['query'], 'format_': '', 'nullable': False, 'enum': [], 'max_items': '0', 'min_items': '0'}}\n",
      "---CHECK RELEVANCE---\n",
      "{'name': 'grade', 'description': 'Binary score for relevance check.', 'parameters': {'type_': 6, 'properties': {'binary_score': {'type_': 1, 'description': \"Relevance score 'yes' or 'no'\", 'format_': '', 'nullable': False, 'enum': [], 'max_items': '0', 'min_items': '0', 'properties': {}, 'required': []}}, 'required': ['binary_score'], 'format_': '', 'description': '', 'nullable': False, 'enum': [], 'max_items': '0', 'min_items': '0'}}\n",
      "---DECISION: DOCS RELEVANT---\n",
      "---GENERATE---\n",
      "All message contents: ['What are Expenses in February for marketing department?', '', 'Month: February\\nAccount: Advertising & Marketing\\nDepartment: Marketing\\nVendor: Vendor B\\nExpenses: 18000\\nBudget: 17500\\nActuals: 18200\\nPrevious Month Expenses: 17000\\n\\nMonth: February\\nAccount: Advertising & Marketing\\nDepartment: Marketing\\nVendor: Vendor B\\nExpenses: 18000\\nBudget: 17500\\nActuals: 18200\\nPrevious Month Expenses: 17000\\n\\nMonth: October\\nAccount: Marketing\\nDepartment: Marketing\\nVendor: Vendor J\\nExpenses: 9000\\nBudget: 8500\\nActuals: 9200\\nPrevious Month Expenses: 8800\\n\\nMonth: October\\nAccount: Marketing\\nDepartment: Marketing\\nVendor: Vendor J\\nExpenses: 9000\\nBudget: 8500\\nActuals: 9200\\nPrevious Month Expenses: 8800', 'The total expenses for the marketing department in February were $36,000. This figure is calculated by adding the expenses from two entries for \"Advertising & Marketing\" within the marketing department, both with expenses of $18,000. \\n']\n"
     ]
    }
   ],
   "source": [
    "async def drop_prepared_statements(conn):\n",
    "    async with conn.cursor() as cursor:\n",
    "        await cursor.execute(\"DEALLOCATE ALL;\")\n",
    "\n",
    "async with AsyncPostgresSaver.from_conn_string(DB_URI) as checkpointer:\n",
    "    # Use the underlying psycopg connection to drop existing prepared statements\n",
    "    async with checkpointer.conn.transaction():\n",
    "        await drop_prepared_statements(checkpointer.conn)\n",
    "    \n",
    "    await checkpointer.setup()\n",
    "    graph = workflow.compile(checkpointer=checkpointer)\n",
    "    config = {\"configurable\": {\"thread_id\": \"4\"}}\n",
    "    \n",
    "    res = await graph.ainvoke(\n",
    "        {\"messages\": [(\"human\", \"What are Expenses in February for marketing department?\")]}, config\n",
    "    )\n",
    "    \n",
    "    messages = res.get(\"messages\", [])\n",
    "    if messages:\n",
    "        all_contents = [msg.content for msg in messages]  # access content directly from object\n",
    "        print(\"All message contents:\", all_contents)\n"
   ]
  },
  {
   "cell_type": "code",
   "execution_count": null,
   "metadata": {},
   "outputs": [],
   "source": []
  },
  {
   "cell_type": "code",
   "execution_count": null,
   "metadata": {},
   "outputs": [],
   "source": []
  },
  {
   "cell_type": "code",
   "execution_count": null,
   "metadata": {},
   "outputs": [],
   "source": []
  },
  {
   "cell_type": "code",
   "execution_count": 8,
   "metadata": {},
   "outputs": [
    {
     "name": "stdout",
     "output_type": "stream",
     "text": [
      "Conversation data: {'step': -1, 'source': 'input', 'writes': {'__start__': {'messages': [['human', 'Do you know my name?']]}}, 'parents': {}}\n"
     ]
    }
   ],
   "source": [
    "import psycopg2\n",
    "import json\n",
    "url = os.getenv(\"Postgres_sql_URL\")\n",
    "# PostgreSQL connection details\n",
    "conn = psycopg2.connect(url)\n",
    "\n",
    "def fetch_conversation_by_thread(thread_id):\n",
    "    with conn.cursor() as cursor:\n",
    "        cursor.execute(\"SELECT metadata FROM checkpoints WHERE thread_id = %s\", (thread_id,))\n",
    "        result = cursor.fetchone()\n",
    "        if result:\n",
    "            # No need for json.loads if the data is already in dict format\n",
    "            metadata = result[0]  # Directly assign it as the metadata\n",
    "            return metadata\n",
    "        else:\n",
    "            return None\n",
    "\n",
    "# Example usage\n",
    "thread_id = '1'\n",
    "conversation = fetch_conversation_by_thread(thread_id)\n",
    "if conversation:\n",
    "    print(\"Conversation data:\", conversation)\n",
    "else:\n",
    "    print(\"No conversation found for this thread_id.\")\n"
   ]
  },
  {
   "cell_type": "code",
   "execution_count": 9,
   "metadata": {},
   "outputs": [
    {
     "name": "stdout",
     "output_type": "stream",
     "text": [
      "Conversation data: {'step': -1, 'source': 'input', 'writes': {'__start__': {'messages': [['human', 'What is the 10 percent of my marketing budget in month of january?']]}}, 'parents': {}}\n"
     ]
    }
   ],
   "source": [
    "import psycopg2\n",
    "import json\n",
    "url = os.getenv(\"Postgres_sql_URL\")\n",
    "# PostgreSQL connection details\n",
    "conn = psycopg2.connect(url)\n",
    "\n",
    "def fetch_conversation_by_thread(thread_id):\n",
    "    with conn.cursor() as cursor:\n",
    "        cursor.execute(\"SELECT metadata FROM checkpoints WHERE thread_id = %s\", (thread_id,))\n",
    "        result = cursor.fetchone()\n",
    "        if result:\n",
    "            # No need for json.loads if the data is already in dict format\n",
    "            metadata = result[0]  # Directly assign it as the metadata\n",
    "            return metadata\n",
    "        else:\n",
    "            return None\n",
    "\n",
    "# Example usage\n",
    "thread_id = '2'\n",
    "conversation = fetch_conversation_by_thread(thread_id)\n",
    "if conversation:\n",
    "    print(\"Conversation data:\", conversation)\n",
    "else:\n",
    "    print(\"No conversation found for this thread_id.\")\n"
   ]
  },
  {
   "cell_type": "code",
   "execution_count": 10,
   "metadata": {},
   "outputs": [
    {
     "name": "stdout",
     "output_type": "stream",
     "text": [
      "Thread ID: 1\n",
      "Conversation: {'step': -1, 'source': 'input', 'writes': {'__start__': {'messages': [['human', 'Do you know my name?']]}}, 'parents': {}}\n",
      "\n",
      "\n",
      "Thread ID: 1\n",
      "Conversation: {'step': 0, 'source': 'loop', 'writes': None, 'parents': {}}\n",
      "\n",
      "\n",
      "Thread ID: 1\n",
      "Conversation: {'step': 1, 'source': 'loop', 'writes': {'agent': {'messages': [{'id': ['langchain', 'schema', 'messages', 'AIMessage'], 'lc': 1, 'type': 'constructor', 'kwargs': {'id': 'run-7e192c59-832b-4be6-89d3-5468e91d2c2e-0', 'type': 'ai', 'content': \"I do not have access to your personal information, including your name. My purpose is to help you find information and complete tasks, but I don't store or have access to any private data about you. \\n\", 'tool_calls': [], 'usage_metadata': {'input_tokens': 77, 'total_tokens': 119, 'output_tokens': 42}, 'response_metadata': {'finish_reason': 'STOP', 'safety_ratings': [{'blocked': False, 'category': 'HARM_CATEGORY_SEXUALLY_EXPLICIT', 'probability': 'NEGLIGIBLE'}, {'blocked': False, 'category': 'HARM_CATEGORY_HATE_SPEECH', 'probability': 'NEGLIGIBLE'}, {'blocked': False, 'category': 'HARM_CATEGORY_HARASSMENT', 'probability': 'NEGLIGIBLE'}, {'blocked': False, 'category': 'HARM_CATEGORY_DANGEROUS_CONTENT', 'probability': 'NEGLIGIBLE'}], 'prompt_feedback': {'block_reason': 0, 'safety_ratings': []}}, 'invalid_tool_calls': []}}]}}, 'parents': {}}\n",
      "\n",
      "\n",
      "Thread ID: 1\n",
      "Conversation: {'step': 2, 'source': 'input', 'writes': {'__start__': {'messages': [['human', 'my name is zain']]}}, 'parents': {}}\n",
      "\n",
      "\n",
      "Thread ID: 1\n",
      "Conversation: {'step': 3, 'source': 'loop', 'writes': None, 'parents': {}}\n",
      "\n",
      "\n",
      "Thread ID: 1\n",
      "Conversation: {'step': 4, 'source': 'loop', 'writes': {'agent': {'messages': [{'id': ['langchain', 'schema', 'messages', 'AIMessage'], 'lc': 1, 'type': 'constructor', 'kwargs': {'id': 'run-a484c542-bc6e-46e1-97b4-6589658a9362-0', 'type': 'ai', 'content': 'Nice to meet you, Zain! 👋 \\n\\nHow can I help you today? 😊 \\n', 'tool_calls': [], 'usage_metadata': {'input_tokens': 127, 'total_tokens': 145, 'output_tokens': 18}, 'response_metadata': {'finish_reason': 'STOP', 'safety_ratings': [{'blocked': False, 'category': 'HARM_CATEGORY_SEXUALLY_EXPLICIT', 'probability': 'NEGLIGIBLE'}, {'blocked': False, 'category': 'HARM_CATEGORY_HATE_SPEECH', 'probability': 'NEGLIGIBLE'}, {'blocked': False, 'category': 'HARM_CATEGORY_HARASSMENT', 'probability': 'NEGLIGIBLE'}, {'blocked': False, 'category': 'HARM_CATEGORY_DANGEROUS_CONTENT', 'probability': 'NEGLIGIBLE'}], 'prompt_feedback': {'block_reason': 0, 'safety_ratings': []}}, 'invalid_tool_calls': []}}]}}, 'parents': {}}\n",
      "\n",
      "\n",
      "Thread ID: 1\n",
      "Conversation: {'step': 5, 'source': 'input', 'writes': {'__start__': {'messages': [['human', 'Do you know my name?']]}}, 'parents': {}}\n",
      "\n",
      "\n",
      "Thread ID: 1\n",
      "Conversation: {'step': 6, 'source': 'loop', 'writes': None, 'parents': {}}\n",
      "\n",
      "\n",
      "Thread ID: 1\n",
      "Conversation: {'step': 7, 'source': 'loop', 'writes': {'agent': {'messages': [{'id': ['langchain', 'schema', 'messages', 'AIMessage'], 'lc': 1, 'type': 'constructor', 'kwargs': {'id': 'run-37017a2c-e3b7-4e19-8e81-899b926ce3ce-0', 'type': 'ai', 'content': 'Yes, I remember you told me your name is Zain. 😊 \\n\\nDo you have any questions for me or tasks I can help you with? \\n', 'tool_calls': [], 'usage_metadata': {'input_tokens': 155, 'total_tokens': 185, 'output_tokens': 30}, 'response_metadata': {'finish_reason': 'STOP', 'safety_ratings': [{'blocked': False, 'category': 'HARM_CATEGORY_SEXUALLY_EXPLICIT', 'probability': 'NEGLIGIBLE'}, {'blocked': False, 'category': 'HARM_CATEGORY_HATE_SPEECH', 'probability': 'NEGLIGIBLE'}, {'blocked': False, 'category': 'HARM_CATEGORY_HARASSMENT', 'probability': 'NEGLIGIBLE'}, {'blocked': False, 'category': 'HARM_CATEGORY_DANGEROUS_CONTENT', 'probability': 'NEGLIGIBLE'}], 'prompt_feedback': {'block_reason': 0, 'safety_ratings': []}}, 'invalid_tool_calls': []}}]}}, 'parents': {}}\n",
      "\n",
      "\n",
      "Thread ID: 1\n",
      "Conversation: {'step': 8, 'source': 'input', 'writes': {'__start__': {'messages': [['human', 'my name is zain']]}}, 'parents': {}}\n",
      "\n",
      "\n",
      "Thread ID: 1\n",
      "Conversation: {'step': 9, 'source': 'loop', 'writes': None, 'parents': {}}\n",
      "\n",
      "\n",
      "Thread ID: 1\n",
      "Conversation: {'step': 10, 'source': 'loop', 'writes': {'agent': {'messages': [{'id': ['langchain', 'schema', 'messages', 'AIMessage'], 'lc': 1, 'type': 'constructor', 'kwargs': {'id': 'run-2c95cc80-0732-441d-803b-cb3191524c12-0', 'type': 'ai', 'content': 'You already told me your name is Zain, and I remember that! 😊  Is there anything else I can help you with? \\n', 'tool_calls': [], 'usage_metadata': {'input_tokens': 193, 'total_tokens': 219, 'output_tokens': 26}, 'response_metadata': {'finish_reason': 'STOP', 'safety_ratings': [{'blocked': False, 'category': 'HARM_CATEGORY_SEXUALLY_EXPLICIT', 'probability': 'NEGLIGIBLE'}, {'blocked': False, 'category': 'HARM_CATEGORY_HATE_SPEECH', 'probability': 'NEGLIGIBLE'}, {'blocked': False, 'category': 'HARM_CATEGORY_HARASSMENT', 'probability': 'NEGLIGIBLE'}, {'blocked': False, 'category': 'HARM_CATEGORY_DANGEROUS_CONTENT', 'probability': 'NEGLIGIBLE'}], 'prompt_feedback': {'block_reason': 0, 'safety_ratings': []}}, 'invalid_tool_calls': []}}]}}, 'parents': {}}\n",
      "\n",
      "\n",
      "Thread ID: 2\n",
      "Conversation: {'step': -1, 'source': 'input', 'writes': {'__start__': {'messages': [['human', 'What is the 10 percent of my marketing budget in month of january?']]}}, 'parents': {}}\n",
      "\n",
      "\n",
      "Thread ID: 2\n",
      "Conversation: {'step': 0, 'source': 'loop', 'writes': None, 'parents': {}}\n",
      "\n",
      "\n",
      "Thread ID: 2\n",
      "Conversation: {'step': 1, 'source': 'loop', 'writes': {'agent': {'messages': [{'id': ['langchain', 'schema', 'messages', 'AIMessage'], 'lc': 1, 'type': 'constructor', 'kwargs': {'id': 'run-69d3e549-5370-4fd7-89e0-9006373b2090-0', 'type': 'ai', 'content': \"I can't answer this question. I can only access financial data in a CSV format and I do not have information about your marketing budget for the month of January. \\n\", 'tool_calls': [], 'usage_metadata': {'input_tokens': 87, 'total_tokens': 121, 'output_tokens': 34}, 'response_metadata': {'finish_reason': 'STOP', 'safety_ratings': [{'blocked': False, 'category': 'HARM_CATEGORY_SEXUALLY_EXPLICIT', 'probability': 'NEGLIGIBLE'}, {'blocked': False, 'category': 'HARM_CATEGORY_HATE_SPEECH', 'probability': 'NEGLIGIBLE'}, {'blocked': False, 'category': 'HARM_CATEGORY_HARASSMENT', 'probability': 'NEGLIGIBLE'}, {'blocked': False, 'category': 'HARM_CATEGORY_DANGEROUS_CONTENT', 'probability': 'NEGLIGIBLE'}], 'prompt_feedback': {'block_reason': 0, 'safety_ratings': []}}, 'invalid_tool_calls': []}}]}}, 'parents': {}}\n",
      "\n",
      "\n",
      "Thread ID: 2\n",
      "Conversation: {'step': 2, 'source': 'input', 'writes': {'__start__': {'messages': [['human', 'What are Expenses in january?']]}}, 'parents': {}}\n",
      "\n",
      "\n",
      "Thread ID: 2\n",
      "Conversation: {'step': 3, 'source': 'loop', 'writes': None, 'parents': {}}\n",
      "\n",
      "\n",
      "Thread ID: 2\n",
      "Conversation: {'step': 4, 'source': 'loop', 'writes': {'agent': {'messages': [{'id': ['langchain', 'schema', 'messages', 'AIMessage'], 'lc': 1, 'type': 'constructor', 'kwargs': {'id': 'run-0cc6cecf-e7ec-4a59-aec4-5612b101b661-0', 'type': 'ai', 'content': '', 'tool_calls': [{'id': 'ade93c67-b9d3-47a4-9bb4-8a82aff8628f', 'args': {'query': 'Expenses in January'}, 'name': 'Financial_data_csv', 'type': 'tool_call'}], 'usage_metadata': {'input_tokens': 131, 'total_tokens': 150, 'output_tokens': 19}, 'additional_kwargs': {'function_call': {'name': 'Financial_data_csv', 'arguments': '{\"query\": \"Expenses in January\"}'}}, 'response_metadata': {'finish_reason': 'STOP', 'safety_ratings': [{'blocked': False, 'category': 'HARM_CATEGORY_HATE_SPEECH', 'probability': 'NEGLIGIBLE'}, {'blocked': False, 'category': 'HARM_CATEGORY_DANGEROUS_CONTENT', 'probability': 'NEGLIGIBLE'}, {'blocked': False, 'category': 'HARM_CATEGORY_HARASSMENT', 'probability': 'NEGLIGIBLE'}, {'blocked': False, 'category': 'HARM_CATEGORY_SEXUALLY_EXPLICIT', 'probability': 'NEGLIGIBLE'}], 'prompt_feedback': {'block_reason': 0, 'safety_ratings': []}}, 'invalid_tool_calls': []}}]}}, 'parents': {}}\n",
      "\n",
      "\n",
      "Thread ID: 2\n",
      "Conversation: {'step': 5, 'source': 'loop', 'writes': {'retrieve': {'messages': [{'id': ['langchain', 'schema', 'messages', 'ToolMessage'], 'lc': 1, 'type': 'constructor', 'kwargs': {'id': '15ccb8c5-432b-445a-974f-622d97858a0f', 'name': 'Financial_data_csv', 'type': 'tool', 'status': 'success', 'content': 'Month: January\\nAccount: Research & Development\\nDepartment: R&D\\nVendor: Vendor A\\nExpenses: 20000\\nBudget: 22000\\nActuals: 19500\\nPrevious Month Expenses: 18000\\n\\nMonth: January\\nAccount: Research & Development\\nDepartment: R&D\\nVendor: Vendor A\\nExpenses: 20000\\nBudget: 22000\\nActuals: 19500\\nPrevious Month Expenses: 18000\\n\\nMonth: February\\nAccount: Advertising & Marketing\\nDepartment: Marketing\\nVendor: Vendor B\\nExpenses: 18000\\nBudget: 17500\\nActuals: 18200\\nPrevious Month Expenses: 17000\\n\\nMonth: February\\nAccount: Advertising & Marketing\\nDepartment: Marketing\\nVendor: Vendor B\\nExpenses: 18000\\nBudget: 17500\\nActuals: 18200\\nPrevious Month Expenses: 17000', 'tool_call_id': 'ade93c67-b9d3-47a4-9bb4-8a82aff8628f'}}]}}, 'parents': {}}\n",
      "\n",
      "\n",
      "Thread ID: 2\n",
      "Conversation: {'step': 6, 'source': 'loop', 'writes': {'rewrite': {'messages': [{'id': ['langchain', 'schema', 'messages', 'AIMessage'], 'lc': 1, 'type': 'constructor', 'kwargs': {'id': 'run-aaab23cb-13e5-4a8c-9f8e-3fe2a0976de9-0', 'type': 'ai', 'content': '**Improved Question:**\\n\\nWhat is 10% of my total marketing budget allocated for January? \\n', 'tool_calls': [], 'usage_metadata': {'input_tokens': 71, 'total_tokens': 91, 'output_tokens': 20}, 'response_metadata': {'finish_reason': 'STOP', 'safety_ratings': [{'blocked': False, 'category': 'HARM_CATEGORY_SEXUALLY_EXPLICIT', 'probability': 'NEGLIGIBLE'}, {'blocked': False, 'category': 'HARM_CATEGORY_HATE_SPEECH', 'probability': 'NEGLIGIBLE'}, {'blocked': False, 'category': 'HARM_CATEGORY_HARASSMENT', 'probability': 'NEGLIGIBLE'}, {'blocked': False, 'category': 'HARM_CATEGORY_DANGEROUS_CONTENT', 'probability': 'NEGLIGIBLE'}], 'prompt_feedback': {'block_reason': 0, 'safety_ratings': []}}, 'invalid_tool_calls': []}}]}}, 'parents': {}}\n",
      "\n",
      "\n",
      "Thread ID: 2\n",
      "Conversation: {'step': 7, 'source': 'loop', 'writes': {'agent': {'messages': [{'id': ['langchain', 'schema', 'messages', 'AIMessage'], 'lc': 1, 'type': 'constructor', 'kwargs': {'id': 'run-b46ab335-23e2-4ddd-9239-e41df7da1fb6-0', 'type': 'ai', 'content': \"**Reason:**\\n\\nThe initial question was ambiguous. It's unclear if you're asking for 10% of your total expenses in January or specifically 10% of your marketing budget for that month. By rephrasing the question, we remove ambiguity and ensure we're asking for the intended information. \\n\\n**To get a precise answer, please provide the CSV data containing your marketing budget for January.** \\n\", 'tool_calls': [], 'usage_metadata': {'input_tokens': 463, 'total_tokens': 549, 'output_tokens': 86}, 'response_metadata': {'finish_reason': 'STOP', 'safety_ratings': [{'blocked': False, 'category': 'HARM_CATEGORY_SEXUALLY_EXPLICIT', 'probability': 'NEGLIGIBLE'}, {'blocked': False, 'category': 'HARM_CATEGORY_HATE_SPEECH', 'probability': 'NEGLIGIBLE'}, {'blocked': False, 'category': 'HARM_CATEGORY_HARASSMENT', 'probability': 'NEGLIGIBLE'}, {'blocked': False, 'category': 'HARM_CATEGORY_DANGEROUS_CONTENT', 'probability': 'NEGLIGIBLE'}], 'prompt_feedback': {'block_reason': 0, 'safety_ratings': []}}, 'invalid_tool_calls': []}}]}}, 'parents': {}}\n",
      "\n",
      "\n",
      "Thread ID: 3\n",
      "Conversation: {'step': -1, 'source': 'input', 'writes': {'__start__': {'messages': [['human', 'What are Expenses in january for marketing department?']]}}, 'parents': {}}\n",
      "\n",
      "\n",
      "Thread ID: 3\n",
      "Conversation: {'step': 0, 'source': 'loop', 'writes': None, 'parents': {}}\n",
      "\n",
      "\n",
      "Thread ID: 3\n",
      "Conversation: {'step': 1, 'source': 'loop', 'writes': {'agent': {'messages': [{'id': ['langchain', 'schema', 'messages', 'AIMessage'], 'lc': 1, 'type': 'constructor', 'kwargs': {'id': 'run-3e224052-7ff4-4797-9fbf-d24ff0003f62-0', 'type': 'ai', 'content': '', 'tool_calls': [{'id': '99ce3d8d-a9bc-4a68-9dd9-880c61377968', 'args': {'query': 'Expenses in january for marketing department'}, 'name': 'Financial_data_csv', 'type': 'tool_call'}], 'usage_metadata': {'input_tokens': 80, 'total_tokens': 102, 'output_tokens': 22}, 'additional_kwargs': {'function_call': {'name': 'Financial_data_csv', 'arguments': '{\"query\": \"Expenses in january for marketing department\"}'}}, 'response_metadata': {'finish_reason': 'STOP', 'safety_ratings': [{'blocked': False, 'category': 'HARM_CATEGORY_HATE_SPEECH', 'probability': 'NEGLIGIBLE'}, {'blocked': False, 'category': 'HARM_CATEGORY_DANGEROUS_CONTENT', 'probability': 'NEGLIGIBLE'}, {'blocked': False, 'category': 'HARM_CATEGORY_HARASSMENT', 'probability': 'NEGLIGIBLE'}, {'blocked': False, 'category': 'HARM_CATEGORY_SEXUALLY_EXPLICIT', 'probability': 'NEGLIGIBLE'}], 'prompt_feedback': {'block_reason': 0, 'safety_ratings': []}}, 'invalid_tool_calls': []}}]}}, 'parents': {}}\n",
      "\n",
      "\n",
      "Thread ID: 3\n",
      "Conversation: {'step': 2, 'source': 'loop', 'writes': {'retrieve': {'messages': [{'id': ['langchain', 'schema', 'messages', 'ToolMessage'], 'lc': 1, 'type': 'constructor', 'kwargs': {'id': '7355ce8d-dcc4-458a-bde0-bc8d886ba7b3', 'name': 'Financial_data_csv', 'type': 'tool', 'status': 'success', 'content': 'Month: February\\nAccount: Advertising & Marketing\\nDepartment: Marketing\\nVendor: Vendor B\\nExpenses: 18000\\nBudget: 17500\\nActuals: 18200\\nPrevious Month Expenses: 17000\\n\\nMonth: February\\nAccount: Advertising & Marketing\\nDepartment: Marketing\\nVendor: Vendor B\\nExpenses: 18000\\nBudget: 17500\\nActuals: 18200\\nPrevious Month Expenses: 17000\\n\\nMonth: January\\nAccount: Research & Development\\nDepartment: R&D\\nVendor: Vendor A\\nExpenses: 20000\\nBudget: 22000\\nActuals: 19500\\nPrevious Month Expenses: 18000\\n\\nMonth: January\\nAccount: Research & Development\\nDepartment: R&D\\nVendor: Vendor A\\nExpenses: 20000\\nBudget: 22000\\nActuals: 19500\\nPrevious Month Expenses: 18000', 'tool_call_id': '99ce3d8d-a9bc-4a68-9dd9-880c61377968'}}]}}, 'parents': {}}\n",
      "\n",
      "\n",
      "Thread ID: 3\n",
      "Conversation: {'step': 3, 'source': 'loop', 'writes': {'rewrite': {'messages': [{'id': ['langchain', 'schema', 'messages', 'AIMessage'], 'lc': 1, 'type': 'constructor', 'kwargs': {'id': 'run-d51b48e3-440f-4d87-b341-4b2a8e56602c-0', 'type': 'ai', 'content': '**Improved Question:**\\n\\n**What is the total marketing department expense for January?**\\n\\n**Reasoning:**\\n\\n* **Clarity:** The improved question is more concise and directly asks for the desired information.\\n* **Specificity:** It explicitly mentions \"total expenses\" to avoid ambiguity.\\n* **Grammar and Style:** It uses proper grammar and a more formal tone.\\n* **Assumptions:** The original question assumes there are expenses for the marketing department in January. The improved question maintains this assumption but phrases it more naturally. \\n\\nThis improved question is more likely to elicit a clear and accurate response. \\n', 'tool_calls': [], 'usage_metadata': {'input_tokens': 64, 'total_tokens': 185, 'output_tokens': 121}, 'response_metadata': {'finish_reason': 'STOP', 'safety_ratings': [{'blocked': False, 'category': 'HARM_CATEGORY_SEXUALLY_EXPLICIT', 'probability': 'NEGLIGIBLE'}, {'blocked': False, 'category': 'HARM_CATEGORY_HATE_SPEECH', 'probability': 'NEGLIGIBLE'}, {'blocked': False, 'category': 'HARM_CATEGORY_HARASSMENT', 'probability': 'NEGLIGIBLE'}, {'blocked': False, 'category': 'HARM_CATEGORY_DANGEROUS_CONTENT', 'probability': 'NEGLIGIBLE'}], 'prompt_feedback': {'block_reason': 0, 'safety_ratings': []}}, 'invalid_tool_calls': []}}]}}, 'parents': {}}\n",
      "\n",
      "\n",
      "Thread ID: 3\n",
      "Conversation: {'step': 4, 'source': 'loop', 'writes': {'agent': {'messages': [{'id': ['langchain', 'schema', 'messages', 'AIMessage'], 'lc': 1, 'type': 'constructor', 'kwargs': {'id': 'run-4b8e5d50-7077-44f2-90c0-b969cbfebec3-0', 'type': 'ai', 'content': '', 'tool_calls': [], 'response_metadata': {'prompt_feedback': {'block_reason': 0, 'safety_ratings': []}}, 'invalid_tool_calls': []}}]}}, 'parents': {}}\n",
      "\n",
      "\n",
      "Thread ID: 4\n",
      "Conversation: {'step': -1, 'source': 'input', 'writes': {'__start__': {'messages': [['human', 'What are Expenses in February for marketing department?']]}}, 'parents': {}}\n",
      "\n",
      "\n",
      "Thread ID: 4\n",
      "Conversation: {'step': 0, 'source': 'loop', 'writes': None, 'parents': {}}\n",
      "\n",
      "\n",
      "Thread ID: 4\n",
      "Conversation: {'step': 1, 'source': 'loop', 'writes': {'agent': {'messages': [{'id': ['langchain', 'schema', 'messages', 'AIMessage'], 'lc': 1, 'type': 'constructor', 'kwargs': {'id': 'run-90920797-b8d9-4f89-910d-9758bba9e02b-0', 'type': 'ai', 'content': '', 'tool_calls': [{'id': 'dbc80bb8-063f-459c-82f4-b80d9bd48790', 'args': {'query': 'Expenses in February for marketing department'}, 'name': 'Financial_data_csv', 'type': 'tool_call'}], 'usage_metadata': {'input_tokens': 80, 'total_tokens': 102, 'output_tokens': 22}, 'additional_kwargs': {'function_call': {'name': 'Financial_data_csv', 'arguments': '{\"query\": \"Expenses in February for marketing department\"}'}}, 'response_metadata': {'finish_reason': 'STOP', 'safety_ratings': [{'blocked': False, 'category': 'HARM_CATEGORY_HATE_SPEECH', 'probability': 'NEGLIGIBLE'}, {'blocked': False, 'category': 'HARM_CATEGORY_DANGEROUS_CONTENT', 'probability': 'NEGLIGIBLE'}, {'blocked': False, 'category': 'HARM_CATEGORY_HARASSMENT', 'probability': 'NEGLIGIBLE'}, {'blocked': False, 'category': 'HARM_CATEGORY_SEXUALLY_EXPLICIT', 'probability': 'NEGLIGIBLE'}], 'prompt_feedback': {'block_reason': 0, 'safety_ratings': []}}, 'invalid_tool_calls': []}}]}}, 'parents': {}}\n",
      "\n",
      "\n",
      "Thread ID: 4\n",
      "Conversation: {'step': 2, 'source': 'loop', 'writes': {'retrieve': {'messages': [{'id': ['langchain', 'schema', 'messages', 'ToolMessage'], 'lc': 1, 'type': 'constructor', 'kwargs': {'id': '44ba891d-4289-4629-9825-8cec1f395828', 'name': 'Financial_data_csv', 'type': 'tool', 'status': 'success', 'content': 'Month: February\\nAccount: Advertising & Marketing\\nDepartment: Marketing\\nVendor: Vendor B\\nExpenses: 18000\\nBudget: 17500\\nActuals: 18200\\nPrevious Month Expenses: 17000\\n\\nMonth: February\\nAccount: Advertising & Marketing\\nDepartment: Marketing\\nVendor: Vendor B\\nExpenses: 18000\\nBudget: 17500\\nActuals: 18200\\nPrevious Month Expenses: 17000\\n\\nMonth: October\\nAccount: Marketing\\nDepartment: Marketing\\nVendor: Vendor J\\nExpenses: 9000\\nBudget: 8500\\nActuals: 9200\\nPrevious Month Expenses: 8800\\n\\nMonth: October\\nAccount: Marketing\\nDepartment: Marketing\\nVendor: Vendor J\\nExpenses: 9000\\nBudget: 8500\\nActuals: 9200\\nPrevious Month Expenses: 8800', 'tool_call_id': 'dbc80bb8-063f-459c-82f4-b80d9bd48790'}}]}}, 'parents': {}}\n",
      "\n",
      "\n",
      "Thread ID: 4\n",
      "Conversation: {'step': 3, 'source': 'loop', 'writes': {'generate': {'messages': ['The total expenses for the marketing department in February were $36,000. This figure is calculated by adding the expenses from two entries for \"Advertising & Marketing\" within the marketing department, both with expenses of $18,000. \\n']}}, 'parents': {}}\n",
      "\n",
      "\n",
      "Thread ID: 1\n",
      "Conversation: {'step': 11, 'source': 'input', 'writes': {'__start__': {'messages': [['human', 'hi i am hasnain.']]}}, 'parents': {}}\n",
      "\n",
      "\n",
      "Thread ID: 1\n",
      "Conversation: {'step': 12, 'source': 'loop', 'writes': None, 'parents': {}}\n",
      "\n",
      "\n",
      "Thread ID: 1\n",
      "Conversation: {'step': 13, 'source': 'loop', 'writes': {'agent': {'messages': [{'id': ['langchain', 'schema', 'messages', 'AIMessage'], 'lc': 1, 'type': 'constructor', 'kwargs': {'id': 'run-667fa658-0ec6-4e7a-89b2-187672c74ad4-0', 'type': 'ai', 'content': \"It's nice to meet you, Hasnain! 😊 I'll remember that your name is Hasnain now. \\n\\nWhat can I do for you today? \\n\", 'tool_calls': [], 'usage_metadata': {'input_tokens': 230, 'total_tokens': 266, 'output_tokens': 36}, 'response_metadata': {'finish_reason': 'STOP', 'safety_ratings': [{'blocked': False, 'category': 'HARM_CATEGORY_SEXUALLY_EXPLICIT', 'probability': 'NEGLIGIBLE'}, {'blocked': False, 'category': 'HARM_CATEGORY_HATE_SPEECH', 'probability': 'NEGLIGIBLE'}, {'blocked': False, 'category': 'HARM_CATEGORY_HARASSMENT', 'probability': 'NEGLIGIBLE'}, {'blocked': False, 'category': 'HARM_CATEGORY_DANGEROUS_CONTENT', 'probability': 'NEGLIGIBLE'}], 'prompt_feedback': {'block_reason': 0, 'safety_ratings': []}}, 'invalid_tool_calls': []}}]}}, 'parents': {}}\n",
      "\n",
      "\n",
      "Thread ID: 1\n",
      "Conversation: {'step': 14, 'source': 'input', 'writes': {'__start__': {'messages': [['human', 'can you tell me my name ?']]}}, 'parents': {}}\n",
      "\n",
      "\n",
      "Thread ID: 1\n",
      "Conversation: {'step': 15, 'source': 'loop', 'writes': None, 'parents': {}}\n",
      "\n",
      "\n",
      "Thread ID: 1\n",
      "Conversation: {'step': 16, 'source': 'loop', 'writes': {'agent': {'messages': [{'id': ['langchain', 'schema', 'messages', 'AIMessage'], 'lc': 1, 'type': 'constructor', 'kwargs': {'id': 'run-5dfb2513-c127-4d28-b9e9-4f1694f150e2-0', 'type': 'ai', 'content': \"You told me your name is Hasnain. 😊 \\n\\nIs there anything else you'd like to know or do today? \\n\", 'tool_calls': [], 'usage_metadata': {'input_tokens': 277, 'total_tokens': 304, 'output_tokens': 27}, 'response_metadata': {'finish_reason': 'STOP', 'safety_ratings': [{'blocked': False, 'category': 'HARM_CATEGORY_SEXUALLY_EXPLICIT', 'probability': 'NEGLIGIBLE'}, {'blocked': False, 'category': 'HARM_CATEGORY_HATE_SPEECH', 'probability': 'NEGLIGIBLE'}, {'blocked': False, 'category': 'HARM_CATEGORY_HARASSMENT', 'probability': 'NEGLIGIBLE'}, {'blocked': False, 'category': 'HARM_CATEGORY_DANGEROUS_CONTENT', 'probability': 'NEGLIGIBLE'}], 'prompt_feedback': {'block_reason': 0, 'safety_ratings': []}}, 'invalid_tool_calls': []}}]}}, 'parents': {}}\n",
      "\n",
      "\n",
      "Thread ID: 2\n",
      "Conversation: {'step': 8, 'source': 'input', 'writes': {'__start__': {'messages': [['human', 'hi']]}}, 'parents': {}}\n",
      "\n",
      "\n",
      "Thread ID: 2\n",
      "Conversation: {'step': 9, 'source': 'loop', 'writes': None, 'parents': {}}\n",
      "\n",
      "\n",
      "Thread ID: 2\n",
      "Conversation: {'step': 10, 'source': 'loop', 'writes': {'agent': {'messages': [{'id': ['langchain', 'schema', 'messages', 'AIMessage'], 'lc': 1, 'type': 'constructor', 'kwargs': {'id': 'run-fdb31343-23b6-4c6b-9f68-97ba2542b19a-0', 'type': 'ai', 'content': 'Hello! 👋  How can I help you today? 😊 \\n', 'tool_calls': [], 'usage_metadata': {'input_tokens': 554, 'total_tokens': 566, 'output_tokens': 12}, 'response_metadata': {'finish_reason': 'STOP', 'safety_ratings': [{'blocked': False, 'category': 'HARM_CATEGORY_SEXUALLY_EXPLICIT', 'probability': 'NEGLIGIBLE'}, {'blocked': False, 'category': 'HARM_CATEGORY_HATE_SPEECH', 'probability': 'NEGLIGIBLE'}, {'blocked': False, 'category': 'HARM_CATEGORY_HARASSMENT', 'probability': 'NEGLIGIBLE'}, {'blocked': False, 'category': 'HARM_CATEGORY_DANGEROUS_CONTENT', 'probability': 'NEGLIGIBLE'}], 'prompt_feedback': {'block_reason': 0, 'safety_ratings': []}}, 'invalid_tool_calls': []}}]}}, 'parents': {}}\n",
      "\n",
      "\n",
      "Thread ID: 2\n",
      "Conversation: {'step': 11, 'source': 'input', 'writes': {'__start__': {'messages': [['human', 'do you know my name ?']]}}, 'parents': {}}\n",
      "\n",
      "\n",
      "Thread ID: 2\n",
      "Conversation: {'step': 12, 'source': 'loop', 'writes': None, 'parents': {}}\n",
      "\n",
      "\n",
      "Thread ID: 2\n",
      "Conversation: {'step': 13, 'source': 'loop', 'writes': {'agent': {'messages': [{'id': ['langchain', 'schema', 'messages', 'AIMessage'], 'lc': 1, 'type': 'constructor', 'kwargs': {'id': 'run-4095c84b-430d-491f-8ef8-534e6aadd6d6-0', 'type': 'ai', 'content': \"I don't have access to any personal information about you, including your name. My knowledge is based on the data I've been trained on and the information you provide in our current conversation. \\n\\nIf you'd like to share your name, I'm happy to learn it! 😊 \\n\", 'tool_calls': [], 'usage_metadata': {'input_tokens': 576, 'total_tokens': 637, 'output_tokens': 61}, 'response_metadata': {'finish_reason': 'STOP', 'safety_ratings': [{'blocked': False, 'category': 'HARM_CATEGORY_SEXUALLY_EXPLICIT', 'probability': 'NEGLIGIBLE'}, {'blocked': False, 'category': 'HARM_CATEGORY_HATE_SPEECH', 'probability': 'NEGLIGIBLE'}, {'blocked': False, 'category': 'HARM_CATEGORY_HARASSMENT', 'probability': 'NEGLIGIBLE'}, {'blocked': False, 'category': 'HARM_CATEGORY_DANGEROUS_CONTENT', 'probability': 'NEGLIGIBLE'}], 'prompt_feedback': {'block_reason': 0, 'safety_ratings': []}}, 'invalid_tool_calls': []}}]}}, 'parents': {}}\n",
      "\n",
      "\n",
      "Thread ID: 9\n",
      "Conversation: {'step': -1, 'source': 'input', 'writes': {'__start__': {'messages': [['human', 'hi']]}}, 'parents': {}}\n",
      "\n",
      "\n",
      "Thread ID: 9\n",
      "Conversation: {'step': 0, 'source': 'loop', 'writes': None, 'parents': {}}\n",
      "\n",
      "\n",
      "Thread ID: 9\n",
      "Conversation: {'step': 1, 'source': 'loop', 'writes': {'agent': {'messages': [{'id': ['langchain', 'schema', 'messages', 'AIMessage'], 'lc': 1, 'type': 'constructor', 'kwargs': {'id': 'run-83378fb4-f0f1-4160-9012-3162450c5201-0', 'type': 'ai', 'content': 'hi there, what can I do for you? \\n', 'tool_calls': [], 'usage_metadata': {'input_tokens': 72, 'total_tokens': 82, 'output_tokens': 10}, 'response_metadata': {'finish_reason': 'STOP', 'safety_ratings': [{'blocked': False, 'category': 'HARM_CATEGORY_SEXUALLY_EXPLICIT', 'probability': 'NEGLIGIBLE'}, {'blocked': False, 'category': 'HARM_CATEGORY_HATE_SPEECH', 'probability': 'NEGLIGIBLE'}, {'blocked': False, 'category': 'HARM_CATEGORY_HARASSMENT', 'probability': 'NEGLIGIBLE'}, {'blocked': False, 'category': 'HARM_CATEGORY_DANGEROUS_CONTENT', 'probability': 'NEGLIGIBLE'}], 'prompt_feedback': {'block_reason': 0, 'safety_ratings': []}}, 'invalid_tool_calls': []}}]}}, 'parents': {}}\n",
      "\n",
      "\n",
      "Thread ID: 9\n",
      "Conversation: {'step': 2, 'source': 'input', 'writes': {'__start__': {'messages': [['human', 'hello my name is zain']]}}, 'parents': {}}\n",
      "\n",
      "\n",
      "Thread ID: 9\n",
      "Conversation: {'step': 3, 'source': 'loop', 'writes': None, 'parents': {}}\n",
      "\n",
      "\n",
      "Thread ID: 9\n",
      "Conversation: {'step': 4, 'source': 'loop', 'writes': {'agent': {'messages': [{'id': ['langchain', 'schema', 'messages', 'AIMessage'], 'lc': 1, 'type': 'constructor', 'kwargs': {'id': 'run-4fa01d36-afc8-4652-8e06-60ae453fcdd3-0', 'type': 'ai', 'content': \"Hello Zain, it's nice to meet you! What can I do for you today? 😊 \\n\", 'tool_calls': [], 'usage_metadata': {'input_tokens': 91, 'total_tokens': 111, 'output_tokens': 20}, 'response_metadata': {'finish_reason': 'STOP', 'safety_ratings': [{'blocked': False, 'category': 'HARM_CATEGORY_SEXUALLY_EXPLICIT', 'probability': 'NEGLIGIBLE'}, {'blocked': False, 'category': 'HARM_CATEGORY_HATE_SPEECH', 'probability': 'NEGLIGIBLE'}, {'blocked': False, 'category': 'HARM_CATEGORY_HARASSMENT', 'probability': 'NEGLIGIBLE'}, {'blocked': False, 'category': 'HARM_CATEGORY_DANGEROUS_CONTENT', 'probability': 'NEGLIGIBLE'}], 'prompt_feedback': {'block_reason': 0, 'safety_ratings': []}}, 'invalid_tool_calls': []}}]}}, 'parents': {}}\n",
      "\n",
      "\n",
      "Thread ID: 9\n",
      "Conversation: {'step': 5, 'source': 'input', 'writes': {'__start__': {'messages': [['human', 'hi']]}}, 'parents': {}}\n",
      "\n",
      "\n",
      "Thread ID: 9\n",
      "Conversation: {'step': 6, 'source': 'loop', 'writes': None, 'parents': {}}\n",
      "\n",
      "\n",
      "Thread ID: 9\n",
      "Conversation: {'step': 7, 'source': 'loop', 'writes': {'agent': {'messages': [{'id': ['langchain', 'schema', 'messages', 'AIMessage'], 'lc': 1, 'type': 'constructor', 'kwargs': {'id': 'run-a94a4c39-c9ff-4a79-9ecd-cf7f94d020f2-0', 'type': 'ai', 'content': \"Hi Zain! 👋  We've already met, so you don't need to re-introduce yourself. 😊 \\n\\nWhat can I help you with today? \\n\", 'tool_calls': [], 'usage_metadata': {'input_tokens': 116, 'total_tokens': 150, 'output_tokens': 34}, 'response_metadata': {'finish_reason': 'STOP', 'safety_ratings': [{'blocked': False, 'category': 'HARM_CATEGORY_SEXUALLY_EXPLICIT', 'probability': 'NEGLIGIBLE'}, {'blocked': False, 'category': 'HARM_CATEGORY_HATE_SPEECH', 'probability': 'NEGLIGIBLE'}, {'blocked': False, 'category': 'HARM_CATEGORY_HARASSMENT', 'probability': 'NEGLIGIBLE'}, {'blocked': False, 'category': 'HARM_CATEGORY_DANGEROUS_CONTENT', 'probability': 'NEGLIGIBLE'}], 'prompt_feedback': {'block_reason': 0, 'safety_ratings': []}}, 'invalid_tool_calls': []}}]}}, 'parents': {}}\n",
      "\n",
      "\n",
      "Thread ID: 9\n",
      "Conversation: {'step': 8, 'source': 'input', 'writes': {'__start__': {'messages': [['human', 'hello my name is hasnain']]}}, 'parents': {}}\n",
      "\n",
      "\n",
      "Thread ID: 9\n",
      "Conversation: {'step': 9, 'source': 'loop', 'writes': None, 'parents': {}}\n",
      "\n",
      "\n",
      "Thread ID: 9\n",
      "Conversation: {'step': 10, 'source': 'loop', 'writes': {'agent': {'messages': [{'id': ['langchain', 'schema', 'messages', 'AIMessage'], 'lc': 1, 'type': 'constructor', 'kwargs': {'id': 'run-3319a4a4-8e1a-4e88-8dfd-7104fd52aba1-0', 'type': 'ai', 'content': \"Hello Hasnain, it's nice to meet you!  😊 What can I do for you today? \\n\", 'tool_calls': [], 'usage_metadata': {'input_tokens': 161, 'total_tokens': 184, 'output_tokens': 23}, 'response_metadata': {'finish_reason': 'STOP', 'safety_ratings': [{'blocked': False, 'category': 'HARM_CATEGORY_SEXUALLY_EXPLICIT', 'probability': 'NEGLIGIBLE'}, {'blocked': False, 'category': 'HARM_CATEGORY_HATE_SPEECH', 'probability': 'NEGLIGIBLE'}, {'blocked': False, 'category': 'HARM_CATEGORY_HARASSMENT', 'probability': 'NEGLIGIBLE'}, {'blocked': False, 'category': 'HARM_CATEGORY_DANGEROUS_CONTENT', 'probability': 'NEGLIGIBLE'}], 'prompt_feedback': {'block_reason': 0, 'safety_ratings': []}}, 'invalid_tool_calls': []}}]}}, 'parents': {}}\n",
      "\n",
      "\n",
      "Thread ID: 9\n",
      "Conversation: {'step': 11, 'source': 'input', 'writes': {'__start__': {'messages': [['human', 'tell me my name']]}}, 'parents': {}}\n",
      "\n",
      "\n",
      "Thread ID: 9\n",
      "Conversation: {'step': 12, 'source': 'loop', 'writes': None, 'parents': {}}\n",
      "\n",
      "\n",
      "Thread ID: 9\n",
      "Conversation: {'step': 13, 'source': 'loop', 'writes': {'agent': {'messages': [{'id': ['langchain', 'schema', 'messages', 'AIMessage'], 'lc': 1, 'type': 'constructor', 'kwargs': {'id': 'run-c1a71034-37c1-439a-ab9e-6f0d33c67cb6-0', 'type': 'ai', 'content': 'You told me your name was Hasnain. 😊 Do you have any other questions for me? \\n', 'tool_calls': [], 'usage_metadata': {'input_tokens': 192, 'total_tokens': 212, 'output_tokens': 20}, 'response_metadata': {'finish_reason': 'STOP', 'safety_ratings': [{'blocked': False, 'category': 'HARM_CATEGORY_SEXUALLY_EXPLICIT', 'probability': 'NEGLIGIBLE'}, {'blocked': False, 'category': 'HARM_CATEGORY_HATE_SPEECH', 'probability': 'NEGLIGIBLE'}, {'blocked': False, 'category': 'HARM_CATEGORY_HARASSMENT', 'probability': 'NEGLIGIBLE'}, {'blocked': False, 'category': 'HARM_CATEGORY_DANGEROUS_CONTENT', 'probability': 'NEGLIGIBLE'}], 'prompt_feedback': {'block_reason': 0, 'safety_ratings': []}}, 'invalid_tool_calls': []}}]}}, 'parents': {}}\n",
      "\n",
      "\n",
      "Thread ID: session_1\n",
      "Conversation: {'step': -1, 'source': 'input', 'writes': {'__start__': {'messages': [['human', 'sdasd']]}}, 'parents': {}}\n",
      "\n",
      "\n",
      "Thread ID: session_1\n",
      "Conversation: {'step': 0, 'source': 'loop', 'writes': None, 'parents': {}}\n",
      "\n",
      "\n",
      "Thread ID: session_1\n",
      "Conversation: {'step': 1, 'source': 'loop', 'writes': {'agent': {'messages': [{'id': ['langchain', 'schema', 'messages', 'AIMessage'], 'lc': 1, 'type': 'constructor', 'kwargs': {'id': 'run-e6f4c3ff-18c9-416c-ac86-2e3264e9b50a-0', 'type': 'ai', 'content': 'sdasd', 'tool_calls': [], 'usage_metadata': {'input_tokens': 74, 'total_tokens': 77, 'output_tokens': 3}, 'response_metadata': {'finish_reason': 'STOP', 'safety_ratings': [{'blocked': False, 'category': 'HARM_CATEGORY_SEXUALLY_EXPLICIT', 'probability': 'NEGLIGIBLE'}, {'blocked': False, 'category': 'HARM_CATEGORY_HATE_SPEECH', 'probability': 'NEGLIGIBLE'}, {'blocked': False, 'category': 'HARM_CATEGORY_HARASSMENT', 'probability': 'NEGLIGIBLE'}, {'blocked': False, 'category': 'HARM_CATEGORY_DANGEROUS_CONTENT', 'probability': 'NEGLIGIBLE'}], 'prompt_feedback': {'block_reason': 0, 'safety_ratings': []}}, 'invalid_tool_calls': []}}]}}, 'parents': {}}\n",
      "\n",
      "\n"
     ]
    }
   ],
   "source": [
    "import psycopg2\n",
    "\n",
    "# PostgreSQL connection details\n",
    "conn = psycopg2.connect(url)\n",
    "\n",
    "def fetch_all_conversations():\n",
    "    with conn.cursor() as cursor:\n",
    "        cursor.execute(\"SELECT thread_id, metadata FROM checkpoints\")\n",
    "        results = cursor.fetchall()\n",
    "        all_conversations = []\n",
    "        for row in results:\n",
    "            thread_id = row[0]  # Thread ID\n",
    "            metadata = row[1]   # Metadata containing conversation data\n",
    "            all_conversations.append({\"thread_id\": thread_id, \"conversation\": metadata})\n",
    "        return all_conversations\n",
    "\n",
    "# Example usage\n",
    "conversations = fetch_all_conversations()\n",
    "for conversation in conversations:\n",
    "    print(f\"Thread ID: {conversation['thread_id']}\")\n",
    "    print(f\"Conversation: {conversation['conversation']}\")\n",
    "    print(\"\\n\")\n"
   ]
  },
  {
   "cell_type": "code",
   "execution_count": 11,
   "metadata": {},
   "outputs": [
    {
     "name": "stdout",
     "output_type": "stream",
     "text": [
      "Thread ID: 1\n",
      "User: Do you know my name?\n",
      "\n",
      "\n",
      "Thread ID: 1\n"
     ]
    },
    {
     "ename": "AttributeError",
     "evalue": "'NoneType' object has no attribute 'items'",
     "output_type": "error",
     "traceback": [
      "\u001b[1;31m---------------------------------------------------------------------------\u001b[0m",
      "\u001b[1;31mAttributeError\u001b[0m                            Traceback (most recent call last)",
      "Cell \u001b[1;32mIn[11], line 42\u001b[0m\n\u001b[0;32m     40\u001b[0m \u001b[38;5;66;03m# Example usage\u001b[39;00m\n\u001b[0;32m     41\u001b[0m conversations \u001b[38;5;241m=\u001b[39m fetch_all_conversations()\n\u001b[1;32m---> 42\u001b[0m \u001b[43mdisplay_conversations\u001b[49m\u001b[43m(\u001b[49m\u001b[43mconversations\u001b[49m\u001b[43m)\u001b[49m\n",
      "Cell \u001b[1;32mIn[11], line 31\u001b[0m, in \u001b[0;36mdisplay_conversations\u001b[1;34m(conversations)\u001b[0m\n\u001b[0;32m     28\u001b[0m conversation_data \u001b[38;5;241m=\u001b[39m conversation[\u001b[38;5;124m'\u001b[39m\u001b[38;5;124mconversation\u001b[39m\u001b[38;5;124m'\u001b[39m]\n\u001b[0;32m     30\u001b[0m \u001b[38;5;66;03m# Display each message in the conversation\u001b[39;00m\n\u001b[1;32m---> 31\u001b[0m \u001b[38;5;28;01mfor\u001b[39;00m step, data \u001b[38;5;129;01min\u001b[39;00m \u001b[43mconversation_data\u001b[49m\u001b[38;5;241;43m.\u001b[39;49m\u001b[43mget\u001b[49m\u001b[43m(\u001b[49m\u001b[38;5;124;43m'\u001b[39;49m\u001b[38;5;124;43mwrites\u001b[39;49m\u001b[38;5;124;43m'\u001b[39;49m\u001b[43m,\u001b[49m\u001b[43m \u001b[49m\u001b[43m{\u001b[49m\u001b[43m}\u001b[49m\u001b[43m)\u001b[49m\u001b[38;5;241;43m.\u001b[39;49m\u001b[43mitems\u001b[49m():\n\u001b[0;32m     32\u001b[0m     messages \u001b[38;5;241m=\u001b[39m data\u001b[38;5;241m.\u001b[39mget(\u001b[38;5;124m'\u001b[39m\u001b[38;5;124mmessages\u001b[39m\u001b[38;5;124m'\u001b[39m, [])\n\u001b[0;32m     33\u001b[0m     \u001b[38;5;28;01mfor\u001b[39;00m role, message \u001b[38;5;129;01min\u001b[39;00m messages:\n",
      "\u001b[1;31mAttributeError\u001b[0m: 'NoneType' object has no attribute 'items'"
     ]
    }
   ],
   "source": [
    "import psycopg2\n",
    "import json\n",
    "\n",
    "# PostgreSQL connection details\n",
    "conn = psycopg2.connect(url)\n",
    "\n",
    "def fetch_all_conversations():\n",
    "    with conn.cursor() as cursor:\n",
    "        cursor.execute(\"SELECT thread_id, metadata FROM checkpoints\")\n",
    "        results = cursor.fetchall()\n",
    "        all_conversations = []\n",
    "        for row in results:\n",
    "            thread_id = row[0]  # Thread ID\n",
    "            metadata = row[1]   # Metadata containing conversation data\n",
    "\n",
    "            # Try to parse the metadata if it is in JSON format\n",
    "            if isinstance(metadata, dict):\n",
    "                conversation_data = metadata\n",
    "            else:\n",
    "                conversation_data = json.loads(metadata)\n",
    "            \n",
    "            all_conversations.append({\"thread_id\": thread_id, \"conversation\": conversation_data})\n",
    "        return all_conversations\n",
    "\n",
    "def display_conversations(conversations):\n",
    "    for conversation in conversations:\n",
    "        print(f\"Thread ID: {conversation['thread_id']}\")\n",
    "        conversation_data = conversation['conversation']\n",
    "\n",
    "        # Display each message in the conversation\n",
    "        for step, data in conversation_data.get('writes', {}).items():\n",
    "            messages = data.get('messages', [])\n",
    "            for role, message in messages:\n",
    "                if role == 'human':\n",
    "                    print(f\"User: {message}\")\n",
    "                elif role == 'ai':\n",
    "                    print(f\"Assistant: {message}\")\n",
    "        print(\"\\n\")\n",
    "\n",
    "# Example usage\n",
    "conversations = fetch_all_conversations()\n",
    "display_conversations(conversations)\n"
   ]
  },
  {
   "cell_type": "code",
   "execution_count": null,
   "metadata": {},
   "outputs": [],
   "source": []
  },
  {
   "cell_type": "code",
   "execution_count": 1,
   "metadata": {},
   "outputs": [
    {
     "name": "stdout",
     "output_type": "stream",
     "text": [
      "Fetched Checkpoints:\n",
      "RealDictRow([('thread_id', '2ee0b7fd-2b9e-4fac-ac6a-8e8cfa9d45d8'), ('checkpoint_id', '1ef91592-8598-64f1-bfff-24c431734e33'), ('parent_checkpoint_id', None), ('type', None), ('checkpoint', {'v': 1, 'id': '1ef91592-8598-64f1-bfff-24c431734e33', 'ts': '2024-10-23T16:09:18.684696+00:00', 'pending_sends': [], 'versions_seen': {'__input__': {}}, 'channel_versions': {'__start__': '00000000000000000000000000000001.0.6302499606610469'}}), ('metadata', {'step': -1, 'source': 'input', 'writes': {'__start__': {'messages': [['human', 'hi']]}}, 'parents': {}})])\n",
      "RealDictRow([('thread_id', '2ee0b7fd-2b9e-4fac-ac6a-8e8cfa9d45d8'), ('checkpoint_id', '1ef91592-859d-64d8-8000-841dfffb4475'), ('parent_checkpoint_id', '1ef91592-8598-64f1-bfff-24c431734e33'), ('type', None), ('checkpoint', {'v': 1, 'id': '1ef91592-859d-64d8-8000-841dfffb4475', 'ts': '2024-10-23T16:09:18.686741+00:00', 'pending_sends': [], 'versions_seen': {'__input__': {}, '__start__': {'__start__': '00000000000000000000000000000001.0.6302499606610469'}}, 'channel_versions': {'messages': '00000000000000000000000000000002.0.23739159178191271', '__start__': '00000000000000000000000000000002.0.16912749145100936', 'start:agent': '00000000000000000000000000000002.0.011929276028433411'}}), ('metadata', {'step': 0, 'source': 'loop', 'writes': None, 'parents': {}})])\n",
      "RealDictRow([('thread_id', '2ee0b7fd-2b9e-4fac-ac6a-8e8cfa9d45d8'), ('checkpoint_id', '1ef91592-9d1f-6bc3-8001-b1932d39a9af'), ('parent_checkpoint_id', '1ef91592-859d-64d8-8000-841dfffb4475'), ('type', None), ('checkpoint', {'v': 1, 'id': '1ef91592-9d1f-6bc3-8001-b1932d39a9af', 'ts': '2024-10-23T16:09:21.151891+00:00', 'pending_sends': [], 'versions_seen': {'agent': {'start:agent': '00000000000000000000000000000002.0.011929276028433411'}, '__input__': {}, '__start__': {'__start__': '00000000000000000000000000000001.0.6302499606610469'}}, 'channel_versions': {'agent': '00000000000000000000000000000003.0.32344234317955467', 'messages': '00000000000000000000000000000003.0.42674747733444174', '__start__': '00000000000000000000000000000002.0.16912749145100936', 'start:agent': '00000000000000000000000000000003.0.8040793344103035'}}), ('metadata', {'step': 1, 'source': 'loop', 'writes': {'agent': {'messages': [{'id': ['langchain', 'schema', 'messages', 'AIMessage'], 'lc': 1, 'type': 'constructor', 'kwargs': {'id': 'run-945d8955-92c5-4f80-b040-2cc9e745dabd-0', 'type': 'ai', 'content': 'hi there! what can i do for you today? \\n', 'tool_calls': [], 'usage_metadata': {'input_tokens': 72, 'total_tokens': 83, 'output_tokens': 11}, 'response_metadata': {'finish_reason': 'STOP', 'safety_ratings': [{'blocked': False, 'category': 'HARM_CATEGORY_SEXUALLY_EXPLICIT', 'probability': 'NEGLIGIBLE'}, {'blocked': False, 'category': 'HARM_CATEGORY_HATE_SPEECH', 'probability': 'NEGLIGIBLE'}, {'blocked': False, 'category': 'HARM_CATEGORY_HARASSMENT', 'probability': 'NEGLIGIBLE'}, {'blocked': False, 'category': 'HARM_CATEGORY_DANGEROUS_CONTENT', 'probability': 'NEGLIGIBLE'}], 'prompt_feedback': {'block_reason': 0, 'safety_ratings': []}}, 'invalid_tool_calls': []}}]}}, 'parents': {}})])\n",
      "RealDictRow([('thread_id', '2ee0b7fd-2b9e-4fac-ac6a-8e8cfa9d45d8'), ('checkpoint_id', '1ef91592-dd8b-6b5e-8002-0dc610984b1a'), ('parent_checkpoint_id', '1ef91592-9d1f-6bc3-8001-b1932d39a9af'), ('type', None), ('checkpoint', {'v': 1, 'id': '1ef91592-dd8b-6b5e-8002-0dc610984b1a', 'ts': '2024-10-23T16:09:27.907004+00:00', 'pending_sends': [], 'versions_seen': {'agent': {'start:agent': '00000000000000000000000000000002.0.011929276028433411'}, '__input__': {}, '__start__': {'__start__': '00000000000000000000000000000001.0.6302499606610469'}}, 'channel_versions': {'agent': '00000000000000000000000000000004.0.24898066707129796', 'messages': '00000000000000000000000000000003.0.42674747733444174', '__start__': '00000000000000000000000000000004.0.5428926711138442', 'start:agent': '00000000000000000000000000000003.0.8040793344103035'}}), ('metadata', {'step': 2, 'source': 'input', 'writes': {'__start__': {'messages': [['human', 'my name is zain']]}}, 'parents': {}})])\n",
      "RealDictRow([('thread_id', '2ee0b7fd-2b9e-4fac-ac6a-8e8cfa9d45d8'), ('checkpoint_id', '1ef91592-dd90-6fed-8003-7ef053a3aa21'), ('parent_checkpoint_id', '1ef91592-dd8b-6b5e-8002-0dc610984b1a'), ('type', None), ('checkpoint', {'v': 1, 'id': '1ef91592-dd90-6fed-8003-7ef053a3aa21', 'ts': '2024-10-23T16:09:27.909169+00:00', 'pending_sends': [], 'versions_seen': {'agent': {'start:agent': '00000000000000000000000000000002.0.011929276028433411'}, '__input__': {}, '__start__': {'__start__': '00000000000000000000000000000004.0.5428926711138442'}}, 'channel_versions': {'agent': '00000000000000000000000000000004.0.24898066707129796', 'messages': '00000000000000000000000000000005.0.7346550006380344', '__start__': '00000000000000000000000000000005.0.7672990882264115', 'start:agent': '00000000000000000000000000000005.0.611902403570333'}}), ('metadata', {'step': 3, 'source': 'loop', 'writes': None, 'parents': {}})])\n",
      "RealDictRow([('thread_id', '2ee0b7fd-2b9e-4fac-ac6a-8e8cfa9d45d8'), ('checkpoint_id', '1ef91592-eb1e-6949-8004-842b36154a22'), ('parent_checkpoint_id', '1ef91592-dd90-6fed-8003-7ef053a3aa21'), ('type', None), ('checkpoint', {'v': 1, 'id': '1ef91592-eb1e-6949-8004-842b36154a22', 'ts': '2024-10-23T16:09:29.330311+00:00', 'pending_sends': [], 'versions_seen': {'agent': {'start:agent': '00000000000000000000000000000005.0.611902403570333'}, '__input__': {}, '__start__': {'__start__': '00000000000000000000000000000004.0.5428926711138442'}}, 'channel_versions': {'agent': '00000000000000000000000000000006.0.0743782813583479', 'messages': '00000000000000000000000000000006.0.4623549843143413', '__start__': '00000000000000000000000000000005.0.7672990882264115', 'start:agent': '00000000000000000000000000000006.0.9188749578617675'}}), ('metadata', {'step': 4, 'source': 'loop', 'writes': {'agent': {'messages': [{'id': ['langchain', 'schema', 'messages', 'AIMessage'], 'lc': 1, 'type': 'constructor', 'kwargs': {'id': 'run-ffd90b3d-e985-4b74-ba29-ba0c9f4ea930-0', 'type': 'ai', 'content': 'Nice to meet you, Zain! What can I do for you today? 😊 \\n', 'tool_calls': [], 'usage_metadata': {'input_tokens': 91, 'total_tokens': 107, 'output_tokens': 16}, 'response_metadata': {'finish_reason': 'STOP', 'safety_ratings': [{'blocked': False, 'category': 'HARM_CATEGORY_SEXUALLY_EXPLICIT', 'probability': 'NEGLIGIBLE'}, {'blocked': False, 'category': 'HARM_CATEGORY_HATE_SPEECH', 'probability': 'NEGLIGIBLE'}, {'blocked': False, 'category': 'HARM_CATEGORY_HARASSMENT', 'probability': 'NEGLIGIBLE'}, {'blocked': False, 'category': 'HARM_CATEGORY_DANGEROUS_CONTENT', 'probability': 'NEGLIGIBLE'}], 'prompt_feedback': {'block_reason': 0, 'safety_ratings': []}}, 'invalid_tool_calls': []}}]}}, 'parents': {}})])\n",
      "RealDictRow([('thread_id', '2ee0b7fd-2b9e-4fac-ac6a-8e8cfa9d45d8'), ('checkpoint_id', '1ef91593-534b-6659-8005-b5af9324da21'), ('parent_checkpoint_id', '1ef91592-eb1e-6949-8004-842b36154a22'), ('type', None), ('checkpoint', {'v': 1, 'id': '1ef91593-534b-6659-8005-b5af9324da21', 'ts': '2024-10-23T16:09:40.253858+00:00', 'pending_sends': [], 'versions_seen': {'agent': {'start:agent': '00000000000000000000000000000005.0.611902403570333'}, '__input__': {}, '__start__': {'__start__': '00000000000000000000000000000004.0.5428926711138442'}}, 'channel_versions': {'agent': '00000000000000000000000000000007.0.6503003453703415', 'messages': '00000000000000000000000000000006.0.4623549843143413', '__start__': '00000000000000000000000000000007.0.014572175120073583', 'start:agent': '00000000000000000000000000000006.0.9188749578617675'}}), ('metadata', {'step': 5, 'source': 'input', 'writes': {'__start__': {'messages': [['human', 'tell me my name']]}}, 'parents': {}})])\n",
      "RealDictRow([('thread_id', '2ee0b7fd-2b9e-4fac-ac6a-8e8cfa9d45d8'), ('checkpoint_id', '1ef91593-5355-62cd-8006-f58c072eae81'), ('parent_checkpoint_id', '1ef91593-534b-6659-8005-b5af9324da21'), ('type', None), ('checkpoint', {'v': 1, 'id': '1ef91593-5355-62cd-8006-f58c072eae81', 'ts': '2024-10-23T16:09:40.257863+00:00', 'pending_sends': [], 'versions_seen': {'agent': {'start:agent': '00000000000000000000000000000005.0.611902403570333'}, '__input__': {}, '__start__': {'__start__': '00000000000000000000000000000007.0.014572175120073583'}}, 'channel_versions': {'agent': '00000000000000000000000000000007.0.6503003453703415', 'messages': '00000000000000000000000000000008.0.5668230289707914', '__start__': '00000000000000000000000000000008.0.7095726100631282', 'start:agent': '00000000000000000000000000000008.0.7671021565430953'}}), ('metadata', {'step': 6, 'source': 'loop', 'writes': None, 'parents': {}})])\n",
      "RealDictRow([('thread_id', '2ee0b7fd-2b9e-4fac-ac6a-8e8cfa9d45d8'), ('checkpoint_id', '1ef91593-5bd7-6c16-8007-ed1742826442'), ('parent_checkpoint_id', '1ef91593-5355-62cd-8006-f58c072eae81'), ('type', None), ('checkpoint', {'v': 1, 'id': '1ef91593-5bd7-6c16-8007-ed1742826442', 'ts': '2024-10-23T16:09:41.150210+00:00', 'pending_sends': [], 'versions_seen': {'agent': {'start:agent': '00000000000000000000000000000008.0.7671021565430953'}, '__input__': {}, '__start__': {'__start__': '00000000000000000000000000000007.0.014572175120073583'}}, 'channel_versions': {'agent': '00000000000000000000000000000009.0.2598748538031016', 'messages': '00000000000000000000000000000009.0.1923740527976665', '__start__': '00000000000000000000000000000008.0.7095726100631282', 'start:agent': '00000000000000000000000000000009.0.19806770628840775'}}), ('metadata', {'step': 7, 'source': 'loop', 'writes': {'agent': {'messages': [{'id': ['langchain', 'schema', 'messages', 'AIMessage'], 'lc': 1, 'type': 'constructor', 'kwargs': {'id': 'run-6da625d6-6bff-4c74-90bb-c0b4956e703c-0', 'type': 'ai', 'content': 'Your name is Zain. 😊 \\n', 'tool_calls': [], 'usage_metadata': {'input_tokens': 115, 'total_tokens': 121, 'output_tokens': 6}, 'response_metadata': {'finish_reason': 'STOP', 'safety_ratings': [{'blocked': False, 'category': 'HARM_CATEGORY_SEXUALLY_EXPLICIT', 'probability': 'NEGLIGIBLE'}, {'blocked': False, 'category': 'HARM_CATEGORY_HATE_SPEECH', 'probability': 'NEGLIGIBLE'}, {'blocked': False, 'category': 'HARM_CATEGORY_HARASSMENT', 'probability': 'NEGLIGIBLE'}, {'blocked': False, 'category': 'HARM_CATEGORY_DANGEROUS_CONTENT', 'probability': 'NEGLIGIBLE'}], 'prompt_feedback': {'block_reason': 0, 'safety_ratings': []}}, 'invalid_tool_calls': []}}]}}, 'parents': {}})])\n"
     ]
    }
   ],
   "source": [
    "# test_postgres.py\n",
    "from postgresSQL import fetch_conversation_by_thread\n",
    "\n",
    "# Test the fetch_conversation_by_thread function\n",
    "test_thread_id = \"2ee0b7fd-2b9e-4fac-ac6a-8e8cfa9d45d8\"  # Replace with a valid thread_id from your data\n",
    "checkpoints = fetch_conversation_by_thread(test_thread_id)\n",
    "\n",
    "# Print the output\n",
    "print(\"Fetched Checkpoints:\")\n",
    "for checkpoint in checkpoints:\n",
    "    print(checkpoint)\n"
   ]
  },
  {
   "cell_type": "code",
   "execution_count": 1,
   "metadata": {},
   "outputs": [
    {
     "name": "stdout",
     "output_type": "stream",
     "text": [
      "Fetched files: [RealDictRow([('file_name', 'dummy_data_for_llm_testing.csv')]), RealDictRow([('file_name', 'dummy_data_for_llm_testing.csv')]), RealDictRow([('file_name', 'dummy_data_for_llm_testing.csv')]), RealDictRow([('file_name', 'dummy_data_for_llm_testing.csv')])]\n"
     ]
    },
    {
     "data": {
      "text/plain": [
       "['dummy_data_for_llm_testing.csv',\n",
       " 'dummy_data_for_llm_testing.csv',\n",
       " 'dummy_data_for_llm_testing.csv',\n",
       " 'dummy_data_for_llm_testing.csv']"
      ]
     },
     "execution_count": 1,
     "metadata": {},
     "output_type": "execute_result"
    }
   ],
   "source": [
    "# test_postgres.py\n",
    "from postgresSQL import fetch_uploaded_files\n",
    "\n",
    "fetch_uploaded_files()"
   ]
  },
  {
   "cell_type": "code",
   "execution_count": 1,
   "metadata": {},
   "outputs": [
    {
     "name": "stdout",
     "output_type": "stream",
     "text": [
      "Error fetching file content from database: 0\n"
     ]
    }
   ],
   "source": [
    "from postgresSQL import fetch_uploaded_file_content\n",
    "fetch_uploaded_file_content(\"zain_financial_data.csv\")"
   ]
  },
  {
   "cell_type": "code",
   "execution_count": null,
   "metadata": {},
   "outputs": [],
   "source": []
  }
 ],
 "metadata": {
  "kernelspec": {
   "display_name": "Python 3",
   "language": "python",
   "name": "python3"
  },
  "language_info": {
   "codemirror_mode": {
    "name": "ipython",
    "version": 3
   },
   "file_extension": ".py",
   "mimetype": "text/x-python",
   "name": "python",
   "nbconvert_exporter": "python",
   "pygments_lexer": "ipython3",
   "version": "3.9.20"
  }
 },
 "nbformat": 4,
 "nbformat_minor": 2
}
